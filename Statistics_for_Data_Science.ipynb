{
 "cells": [
  {
   "cell_type": "markdown",
   "id": "01e9f658",
   "metadata": {},
   "source": [
    "# STATISTICS"
   ]
  },
  {
   "cell_type": "markdown",
   "id": "d5b3cd4b",
   "metadata": {},
   "source": [
    "**Rajeev_Kumar**"
   ]
  },
  {
   "cell_type": "code",
   "execution_count": null,
   "id": "21853711",
   "metadata": {},
   "outputs": [],
   "source": [
    "# Statistics is the science of collecting, organizing and analyzing the data.\n",
    "# Data: facts or pices of information. eg.- Height of students in the class."
   ]
  },
  {
   "cell_type": "code",
   "execution_count": null,
   "id": "f28765ed",
   "metadata": {},
   "outputs": [],
   "source": [
    "# Types of statistics\n",
    "# A. Descriptive stats. : It consists of organizing and summarising the data.\n",
    "# B. Inferential stats. : It consists of using data you have measured to form conclusion."
   ]
  },
  {
   "cell_type": "code",
   "execution_count": null,
   "id": "186910db",
   "metadata": {},
   "outputs": [],
   "source": [
    "# Descriptive:\n",
    "# (i). Measure of central tendency: Mean, Median, Mode.\n",
    "# (ii). Measure of Dispersion: variance, std deviation.\n",
    "# (iii). Histogram,Bar Chart, Pie Charts."
   ]
  },
  {
   "cell_type": "code",
   "execution_count": null,
   "id": "55788714",
   "metadata": {},
   "outputs": [],
   "source": [
    "# B. Infuential stats\n",
    "# (i). z-test\n",
    "# (ii) t-test\n",
    "# Techniques: Hypothesis Testing, p value, significance"
   ]
  },
  {
   "cell_type": "code",
   "execution_count": null,
   "id": "4dcd6465",
   "metadata": {},
   "outputs": [],
   "source": [
    "# EXAMPLES:\n",
    "\n",
    "# eg. let say there are 50 students in a maths class in the university. we have collected the height of \n",
    "#        the student in the class.\n",
    "#  [175cm, 180cm, 160cm, 140cm, 130cm, 140cm, 140cm....]\n",
    "\n",
    "# Descriptive Question:\n",
    "# what is the average of the student in the classs?\n",
    "# what is the common height of the students? - 140.\n",
    "\n",
    "# Inferential question\n",
    "# Are the average height of the students(sample data) in the classroom similiar to what you expect in the entire \n",
    "#       college(population data)?"
   ]
  },
  {
   "cell_type": "code",
   "execution_count": null,
   "id": "33ee3a3d",
   "metadata": {},
   "outputs": [],
   "source": [
    "# TYPES OF DATA:\n",
    "# A. QUANTITATIVE (numerical: where we can can apply mathematical operation)\n",
    "#     (i). Discrete (whole number. eg: no. of bank accounts)\n",
    "#     (ii). Continous(Any value. eg:weights, heights, temperature, speed)\n",
    "# B. QUALITATIVE (also called as Categorical Data)\n",
    "#     (i). Nominal(eg.: Gender, blood group, colors)\n",
    "#     (ii). Ordinal(Rank. eg: Good, Bad, Satisfactory)"
   ]
  },
  {
   "cell_type": "code",
   "execution_count": null,
   "id": "b43a52d3",
   "metadata": {},
   "outputs": [],
   "source": [
    "# SCALE OF MEASUREMENT OF DATA:\n",
    "\n",
    "# (1). Nominal scale Data\n",
    "#      (a) Qaualitative/ Categorical variable \n",
    "#      (b)    eg: Gender, colors, lables\n",
    "#      (c)   order doesn't matter.\n",
    "\n",
    "\n",
    "# (2). Ordinal scale Data\n",
    "#       (a) Rnaking and order matter\n",
    "#       (b) Difference cannot be measured.\n",
    "\n",
    "\n",
    "# (3). Interval scale Data\n",
    "#       (a) The rank and order matters\n",
    "#       (b) Difference can be measured(excluding ratio)\n",
    "#       (c) Doesn't have \"0\" starting value\n",
    "\n",
    "\n",
    "# (4). Ratio scale Data\n",
    "#       (a) The rank and order matters\n",
    "#       (b) Difference & ratio are measurable.\n",
    "#       (c) It does have a \"0\" starting value"
   ]
  },
  {
   "cell_type": "code",
   "execution_count": null,
   "id": "54a672ca",
   "metadata": {},
   "outputs": [],
   "source": [
    "# Measure of Central tendency:\n",
    "#        (i) Mean,(ii) Median & (iii) Mode\n",
    "\n",
    "#  (i) Mean:\n",
    "# Popuulation (N), Sample(n)\n",
    "# eg. X : {1,1,2,2,3,3,4,5,5,6}\n",
    "# Population mean(µ): Σ Xi/N = 32/10 = 3.2\n",
    "# Sample mean(S): Σ Xi/n\n",
    "\n",
    "# (ii) Median:\n",
    "# eg. 4,5,2,3,2,1\n",
    "# median = 2+3/2 = 2.5\n",
    "# why median? : when we have an outlier, it's better to use median to not shift central measure of entire distribution.  \n",
    "# eg. A.  1,2,3,4,5\n",
    "# mean(S) = 15/3 =3   , median = 3 \n",
    "# eg. B.  1,2,3,4,5,100\n",
    "# mean(S) = 115/3 =18   , median = 3+4/2 = 3.5 \n",
    "\n",
    "# (iii) Mode:\n",
    "#     data: 2,1,1,1,4,5,7,8,9,10\n",
    "#         mode = frequency of max no. occur = 1"
   ]
  },
  {
   "cell_type": "markdown",
   "id": "4a9f12d7",
   "metadata": {},
   "source": [
    "## Key Concepts in Probability Theory"
   ]
  },
  {
   "cell_type": "markdown",
   "id": "4417f1ce",
   "metadata": {},
   "source": [
    "The fundamental concept is the \"probability\" of an occurrence, which is a numerical measure of the likelihood that a particular event will happen. Probability ranges from 0 (the event will not happen) to 1 (the event will definitely happen). This theory forms the basis for statistical analysis and is widely applied in various fields like science, engineering, finance, and social sciences."
   ]
  },
  {
   "cell_type": "code",
   "execution_count": null,
   "id": "d5085ec9",
   "metadata": {},
   "outputs": [],
   "source": [
    "# Random Experiment: An action or process that leads to one of several possible outcomes, where the outcome is uncertain. Examples include rolling a dice or flipping a coin.\n",
    "\n",
    "# Sample Space: The set of all possible outcomes of a random experiment. For a coin toss, the sample space is {Heads, Tails}.\n",
    "\n",
    "# Event: A subset of the sample space. An event can include one outcome or multiple outcomes. For example, in a dice roll, an event could be rolling a number greater than 4, which includes the outcomes {5, 6}.\n",
    "\n",
    "# Probability of an Event: The measure of the likelihood that the event occurs. It's calculated as the number of favorable outcomes divided by the total number of outcomes in the sample space.\n",
    "\n",
    "# Types of Events:\n",
    "\n",
    "# Independent Events: The occurrence of one event does not affect the probability of the other.\n",
    "# Dependent Events: The occurrence of one event affects the probability of the other.\n",
    "# Mutually Exclusive Events: Two events that cannot occur at the same time.\n",
    "# Probability Rules:\n",
    "\n",
    "# Addition Rule: For mutually exclusive events, the probability of either event occurring is the sum of their individual probabilities.\n",
    "# Multiplication Rule: For independent events, the probability of both events occurring is the product of their individual probabilities.\n",
    "# Conditional Probability: The probability of an event occurring given that another event has already occurred.\n",
    "\n",
    "# Bayes' Theorem: A way of finding a probability when we know certain other probabilities. This theorem is particularly useful for calculating conditional probabilities.\n",
    "\n",
    "# Random Variables: A variable that takes on different numerical values based on the outcomes of a random process. There are two types: discrete (countable outcomes) and continuous (infinite outcomes).\n",
    "\n",
    "# Probability Distributions: Describes how probabilities are distributed over the values of the random variable. Examples include the binomial distribution for discrete variables and the normal distribution for continuous variables.\n",
    "\n",
    "# Applications\n",
    "# Statistics: For making inferences about a population based on a sample.\n",
    "# Finance: In risk assessment and modeling stock market behaviors.\n",
    "# Science and Engineering: For modeling uncertainties and making predictions.\n",
    "# Gaming and Gambling: To calculate odds and expectations.\n",
    "# Information Technology: In algorithms, cryptography, and data security.\n",
    "# Social Sciences: In research design and data interpretation.\n",
    "# Probability theory provides a framework for understanding and quantifying uncertainty. It's an essential tool in any field that involves data analysis, prediction, and decision-making under uncertainty."
   ]
  },
  {
   "cell_type": "markdown",
   "id": "a132ec9c",
   "metadata": {},
   "source": [
    "#  Descriptive statistics measures:"
   ]
  },
  {
   "cell_type": "markdown",
   "id": "070f72a2",
   "metadata": {},
   "source": [
    "# 1. Measure of Central tendency:"
   ]
  },
  {
   "cell_type": "code",
   "execution_count": 2,
   "id": "0f57c320",
   "metadata": {},
   "outputs": [],
   "source": [
    "# Mean:\n",
    "age = [12,13,14,21,24]"
   ]
  },
  {
   "cell_type": "code",
   "execution_count": 3,
   "id": "fc9e1ca5",
   "metadata": {},
   "outputs": [],
   "source": [
    "import numpy as np"
   ]
  },
  {
   "cell_type": "code",
   "execution_count": 4,
   "id": "ee6a0392",
   "metadata": {},
   "outputs": [
    {
     "data": {
      "text/plain": [
       "16.8"
      ]
     },
     "execution_count": 4,
     "metadata": {},
     "output_type": "execute_result"
    }
   ],
   "source": [
    "np.mean(age)"
   ]
  },
  {
   "cell_type": "code",
   "execution_count": 5,
   "id": "67981872",
   "metadata": {},
   "outputs": [],
   "source": [
    "weights = [45,34,55,76,45,35,89,98,75,1000]"
   ]
  },
  {
   "cell_type": "code",
   "execution_count": 6,
   "id": "8ad4d37c",
   "metadata": {},
   "outputs": [
    {
     "data": {
      "text/plain": [
       "155.2"
      ]
     },
     "execution_count": 6,
     "metadata": {},
     "output_type": "execute_result"
    }
   ],
   "source": [
    "np.mean(weights)"
   ]
  },
  {
   "cell_type": "code",
   "execution_count": 7,
   "id": "bf34766f",
   "metadata": {},
   "outputs": [
    {
     "data": {
      "text/plain": [
       "65.0"
      ]
     },
     "execution_count": 7,
     "metadata": {},
     "output_type": "execute_result"
    }
   ],
   "source": [
    "# Meadian\n",
    "np.median(weights)"
   ]
  },
  {
   "cell_type": "code",
   "execution_count": 9,
   "id": "166dd4b7",
   "metadata": {},
   "outputs": [],
   "source": [
    "# Mode\n",
    "from scipy import stats"
   ]
  },
  {
   "cell_type": "code",
   "execution_count": 10,
   "id": "25afb1cd",
   "metadata": {
    "scrolled": true
   },
   "outputs": [
    {
     "name": "stderr",
     "output_type": "stream",
     "text": [
      "C:\\Users\\rajee\\AppData\\Local\\Temp\\ipykernel_27780\\4197893964.py:1: FutureWarning: Unlike other reduction functions (e.g. `skew`, `kurtosis`), the default behavior of `mode` typically preserves the axis it acts along. In SciPy 1.11.0, this behavior will change: the default value of `keepdims` will become False, the `axis` over which the statistic is taken will be eliminated, and the value None will no longer be accepted. Set `keepdims` to True or False to avoid this warning.\n",
      "  stats.mode(weights)\n"
     ]
    },
    {
     "data": {
      "text/plain": [
       "ModeResult(mode=array([45]), count=array([2]))"
      ]
     },
     "execution_count": 10,
     "metadata": {},
     "output_type": "execute_result"
    }
   ],
   "source": [
    "stats.mode(weights)"
   ]
  },
  {
   "cell_type": "markdown",
   "id": "f0e1dfeb",
   "metadata": {},
   "source": [
    "# 2. Measure of Dispersion"
   ]
  },
  {
   "cell_type": "code",
   "execution_count": null,
   "id": "3c5ab00d",
   "metadata": {},
   "outputs": [],
   "source": [
    "# Measure of Dispersion: \n",
    "(1). Variance: spread of data.\n",
    "  (i). Population variance:\n",
    "          σ^2=Σ(xi-µ)^2/N\n",
    "        xi= Data Points\n",
    "        µ =Population mean\n",
    "        N = Population size\n",
    "        \n",
    "  (ii). Sample Variance:\n",
    "          S^2= Σ(xi-x^)^2/(n-1)\n",
    "         why (n-1)? The reason we use (n-1) bessil correction rather than n is so tht the sample variance \n",
    "           will be what is called an unbiased estimator of the population variance.\n",
    "        S^2=sample variance\n",
    "        xi=the value of the one observation\n",
    "        x^=the mean value of all observations\n",
    "        n=the number of observations.\n",
    "        \n",
    "(2). Standard deviation:\n",
    "       Population std:\n",
    "            σ = sqrt(variance)\n",
    "            \n",
    "        Sample std:\n",
    "            S = sqrt(variance)"
   ]
  },
  {
   "cell_type": "code",
   "execution_count": 11,
   "id": "7c8d8d4a",
   "metadata": {},
   "outputs": [],
   "source": [
    "age_list=[45,34,55,76,45,35,89,98,75,1000]"
   ]
  },
  {
   "cell_type": "code",
   "execution_count": 12,
   "id": "b0003e1c",
   "metadata": {},
   "outputs": [],
   "source": [
    "import numpy as np"
   ]
  },
  {
   "cell_type": "code",
   "execution_count": 13,
   "id": "ea12f591",
   "metadata": {},
   "outputs": [],
   "source": [
    "mean=np.mean(age_list)"
   ]
  },
  {
   "cell_type": "code",
   "execution_count": 14,
   "id": "4f40908e",
   "metadata": {},
   "outputs": [
    {
     "data": {
      "text/plain": [
       "155.2"
      ]
     },
     "execution_count": 14,
     "metadata": {},
     "output_type": "execute_result"
    }
   ],
   "source": [
    "mean"
   ]
  },
  {
   "cell_type": "code",
   "execution_count": 15,
   "id": "289fb6e5",
   "metadata": {},
   "outputs": [
    {
     "data": {
      "text/plain": [
       "79751.15999999999"
      ]
     },
     "execution_count": 15,
     "metadata": {},
     "output_type": "execute_result"
    }
   ],
   "source": [
    "var=np.var(age_list)\n",
    "var"
   ]
  },
  {
   "cell_type": "code",
   "execution_count": 16,
   "id": "d9ff1bca",
   "metadata": {},
   "outputs": [
    {
     "data": {
      "text/plain": [
       "282.4024787426626"
      ]
     },
     "execution_count": 16,
     "metadata": {},
     "output_type": "execute_result"
    }
   ],
   "source": [
    "std=np.std(age_list)\n",
    "std"
   ]
  },
  {
   "cell_type": "code",
   "execution_count": 17,
   "id": "b9ef81fb",
   "metadata": {},
   "outputs": [],
   "source": [
    "import pandas as pd"
   ]
  },
  {
   "cell_type": "code",
   "execution_count": 18,
   "id": "42c9dcf9",
   "metadata": {},
   "outputs": [],
   "source": [
    "data=[[10,12,13],[34,23,45],[32,34,21]]"
   ]
  },
  {
   "cell_type": "code",
   "execution_count": 20,
   "id": "6131c9bb",
   "metadata": {},
   "outputs": [
    {
     "data": {
      "text/html": [
       "<div>\n",
       "<style scoped>\n",
       "    .dataframe tbody tr th:only-of-type {\n",
       "        vertical-align: middle;\n",
       "    }\n",
       "\n",
       "    .dataframe tbody tr th {\n",
       "        vertical-align: top;\n",
       "    }\n",
       "\n",
       "    .dataframe thead th {\n",
       "        text-align: right;\n",
       "    }\n",
       "</style>\n",
       "<table border=\"1\" class=\"dataframe\">\n",
       "  <thead>\n",
       "    <tr style=\"text-align: right;\">\n",
       "      <th></th>\n",
       "      <th>A</th>\n",
       "      <th>B</th>\n",
       "      <th>C</th>\n",
       "    </tr>\n",
       "  </thead>\n",
       "  <tbody>\n",
       "    <tr>\n",
       "      <th>0</th>\n",
       "      <td>10</td>\n",
       "      <td>12</td>\n",
       "      <td>13</td>\n",
       "    </tr>\n",
       "    <tr>\n",
       "      <th>1</th>\n",
       "      <td>34</td>\n",
       "      <td>23</td>\n",
       "      <td>45</td>\n",
       "    </tr>\n",
       "    <tr>\n",
       "      <th>2</th>\n",
       "      <td>32</td>\n",
       "      <td>34</td>\n",
       "      <td>21</td>\n",
       "    </tr>\n",
       "  </tbody>\n",
       "</table>\n",
       "</div>"
      ],
      "text/plain": [
       "    A   B   C\n",
       "0  10  12  13\n",
       "1  34  23  45\n",
       "2  32  34  21"
      ]
     },
     "execution_count": 20,
     "metadata": {},
     "output_type": "execute_result"
    }
   ],
   "source": [
    "df=pd.DataFrame(data,columns=[\"A\",\"B\",\"C\"])\n",
    "df"
   ]
  },
  {
   "cell_type": "code",
   "execution_count": 21,
   "id": "3ca51892",
   "metadata": {},
   "outputs": [
    {
     "data": {
      "text/plain": [
       "A    177.333333\n",
       "B    121.000000\n",
       "C    277.333333\n",
       "dtype: float64"
      ]
     },
     "execution_count": 21,
     "metadata": {},
     "output_type": "execute_result"
    }
   ],
   "source": [
    "df.var()"
   ]
  },
  {
   "cell_type": "code",
   "execution_count": 23,
   "id": "e9849a1a",
   "metadata": {},
   "outputs": [
    {
     "data": {
      "text/plain": [
       "0      2.333333\n",
       "1    121.000000\n",
       "2     49.000000\n",
       "dtype: float64"
      ]
     },
     "execution_count": 23,
     "metadata": {},
     "output_type": "execute_result"
    }
   ],
   "source": [
    "#Row wise Variance:\n",
    "df.var(axis=1)"
   ]
  },
  {
   "cell_type": "code",
   "execution_count": 24,
   "id": "3a69065a",
   "metadata": {},
   "outputs": [
    {
     "data": {
      "text/plain": [
       "A    177.333333\n",
       "B    121.000000\n",
       "C    277.333333\n",
       "dtype: float64"
      ]
     },
     "execution_count": 24,
     "metadata": {},
     "output_type": "execute_result"
    }
   ],
   "source": [
    "#Column wise Variance:\n",
    "df.var(axis=0)"
   ]
  },
  {
   "cell_type": "code",
   "execution_count": null,
   "id": "53d4e447",
   "metadata": {},
   "outputs": [],
   "source": [
    "# RANDOM VARIABLES:\n",
    "   RV is a process of mapping the output of a random process or experiment to a number.\n",
    "    eg. Tossing a coin, Rolling a dice\n",
    "    \n",
    "    Qauntify a random process.\n",
    "    \n",
    "    Y={sum of the rolling of dice 7 times}, {4,5,6,1,2,2}=20"
   ]
  },
  {
   "cell_type": "code",
   "execution_count": null,
   "id": "623086e4",
   "metadata": {},
   "outputs": [],
   "source": [
    "# SETS:\n",
    "  A = {1,2,3,4,5,6,7,8}\n",
    "  B = {3,4,5,6,7}\n",
    "(i). Intersection:\n",
    "    A ∩ B ={3,4,5,6,7}\n",
    "(ii). Union:\n",
    "    A ⋃ B ={1,2,3,4,5,6,7,8}\n",
    "(iii). Difference:\n",
    "    A - B = {1,2,8}\n",
    "(iv). Subset:\n",
    "    A--> B : False\n",
    "    B--> A : True\n",
    "(v). Superset:\n",
    "      A--> B : True\n",
    "      B--> A : False"
   ]
  },
  {
   "cell_type": "markdown",
   "id": "52f4eb6f",
   "metadata": {},
   "source": [
    "# Covriance & Correlation:"
   ]
  },
  {
   "cell_type": "markdown",
   "id": "aa8d6a27",
   "metadata": {},
   "source": [
    "## Correlation\n",
    "\n",
    "**Definition and Purpose:**\n",
    "\n",
    "- What It Is: \n",
    "\n",
    "Correlation is a statistical technique used to measure and describe the strength and direction of a relationship between two continuous variables.\n",
    "\n",
    "- Purpose: \n",
    "It helps in understanding how one variable moves in relation to another.\n",
    "Types of Correlation:\n",
    "\n",
    "**Positive Correlation: Both variables move in the same direction.**\n",
    "\n",
    "**Negative Correlation: As one variable increases, the other decreases.**\n",
    "\n",
    "**Zero Correlation: No discernible relationship.**\n",
    "\n",
    "- Coefficient:\n",
    "\n",
    "Pearson Correlation Coefficient (r): \n",
    "\n",
    "The most common method for calculating correlation. Ranges from -1 to 1.\n",
    "\n",
    "+1: Perfect positive correlation.\n",
    "\n",
    "0: No correlation.\n",
    "\n",
    "-1: Perfect negative correlation.\n",
    "\n",
    "\n",
    "**Limitations:**\n",
    "\n",
    "Not Implies Causation: Correlation does not imply that one variable causes the other to change.\n",
    "Affected by Outliers: Extreme values can significantly affect the correlation."
   ]
  },
  {
   "cell_type": "code",
   "execution_count": 1,
   "id": "d170f3f2",
   "metadata": {},
   "outputs": [
    {
     "name": "stdout",
     "output_type": "stream",
     "text": [
      "Correlation coefficient: 0.9904780038426804\n"
     ]
    }
   ],
   "source": [
    "## Example:\n",
    "\n",
    "import pandas as pd\n",
    "import numpy as np\n",
    "\n",
    "# Sample data\n",
    "data = {'hours_studied': [2, 3, 4, 5, 6, 7],\n",
    "        'exam_score': [50, 55, 70, 80, 90, 95]}\n",
    "\n",
    "df = pd.DataFrame(data)\n",
    "\n",
    "# Calculate Pearson Correlation Coefficient\n",
    "correlation = df['hours_studied'].corr(df['exam_score'])\n",
    "print(\"Correlation coefficient:\", correlation)"
   ]
  },
  {
   "cell_type": "markdown",
   "id": "8101030b",
   "metadata": {},
   "source": [
    "**Correlation Result:**\n",
    "\n",
    "    The correlation coefficient (close to +1 or -1) indicates a strong relationship. A positive value suggests that as hours studied increase, exam scores tend to increase too."
   ]
  },
  {
   "cell_type": "markdown",
   "id": "5d8d846e",
   "metadata": {},
   "source": [
    "## How Correlation different from Regression?"
   ]
  },
  {
   "cell_type": "markdown",
   "id": "ed7e9739",
   "metadata": {},
   "source": [
    "**Definition and Purpose:**\n",
    "\n",
    "- What It Is:\n",
    "Regression analysis predicts the value of a dependent (response) variable based on the value(s) of one or more independent (predictor) variables.\n",
    "\n",
    "- Purpose: \n",
    "To understand the relationship between variables and for predicting future values.\n",
    "    \n",
    "- Types of Regression:\n",
    "\n",
    "Linear Regression: The relationship between the independent and dependent variable is linear.\n",
    "\n",
    "Multiple Regression: Involves more than one independent variable.\n",
    "\n",
    "Logistic Regression: Used when the dependent variable is categorical."
   ]
  },
  {
   "cell_type": "code",
   "execution_count": null,
   "id": "9e495fca",
   "metadata": {},
   "outputs": [],
   "source": [
    "The Regression Equation:\n",
    "\n",
    "# Simple Linear Regression Equation\n",
    "# y = β0 + β1 * x + ε\n",
    "\n",
    "# y: Dependent variable - This is the variable we aim to predict or explain.\n",
    "# x: Independent variable - This is the variable used to predict the value of the dependent variable.\n",
    "# β0: Y-intercept - The value of the dependent variable when the independent variable is zero.\n",
    "# β1: Slope - Represents the change in the dependent variable for a one-unit change in the independent variable.\n",
    "# ε: Error term - Accounts for the discrepancy between the observed values and the values predicted by the model."
   ]
  },
  {
   "cell_type": "markdown",
   "id": "d3857fd8",
   "metadata": {},
   "source": [
    "**Coefficient of Determination (R²):**\n",
    "\n",
    "Indicates the proportion of the variance in the dependent variable that is predictable from the independent variable(s).\n",
    "\n",
    "**Assumptions:**\n",
    "\n",
    "Linearity: The relationship between the independent and dependent variable should be linear.\n",
    "    \n",
    "Homoscedasticity: The residuals (or errors) should be the same across all levels of the independent variables.\n",
    "    \n",
    "Independence: Observations should be independent of each other.\n",
    "    \n",
    "Normal Distribution of Errors: For certain types of inference, the residuals should be normally distributed."
   ]
  },
  {
   "cell_type": "code",
   "execution_count": 2,
   "id": "798721f3",
   "metadata": {},
   "outputs": [
    {
     "name": "stdout",
     "output_type": "stream",
     "text": [
      "                            OLS Regression Results                            \n",
      "==============================================================================\n",
      "Dep. Variable:             exam_score   R-squared:                       0.981\n",
      "Model:                            OLS   Adj. R-squared:                  0.976\n",
      "Method:                 Least Squares   F-statistic:                     207.0\n",
      "Date:                Thu, 14 Dec 2023   Prob (F-statistic):           0.000136\n",
      "Time:                        19:08:05   Log-Likelihood:                -13.527\n",
      "No. Observations:                   6   AIC:                             31.05\n",
      "Df Residuals:                       4   BIC:                             30.64\n",
      "Df Model:                           1                                         \n",
      "Covariance Type:            nonrobust                                         \n",
      "=================================================================================\n",
      "                    coef    std err          t      P>|t|      [0.025      0.975]\n",
      "---------------------------------------------------------------------------------\n",
      "const            29.6190      3.249      9.115      0.001      20.597      38.641\n",
      "hours_studied     9.7143      0.675     14.389      0.000       7.840      11.589\n",
      "==============================================================================\n",
      "Omnibus:                          nan   Durbin-Watson:                   2.274\n",
      "Prob(Omnibus):                    nan   Jarque-Bera (JB):                0.935\n",
      "Skew:                          -0.702   Prob(JB):                        0.627\n",
      "Kurtosis:                       1.671   Cond. No.                         14.1\n",
      "==============================================================================\n",
      "\n",
      "Notes:\n",
      "[1] Standard Errors assume that the covariance matrix of the errors is correctly specified.\n"
     ]
    },
    {
     "name": "stderr",
     "output_type": "stream",
     "text": [
      "C:\\Users\\rajee\\anaconda3\\lib\\site-packages\\statsmodels\\stats\\stattools.py:74: ValueWarning: omni_normtest is not valid with less than 8 observations; 6 samples were given.\n",
      "  warn(\"omni_normtest is not valid with less than 8 observations; %i \"\n"
     ]
    }
   ],
   "source": [
    "## Example:\n",
    "\n",
    "import statsmodels.api as sm\n",
    "\n",
    "# Adding a constant to the model (intercept)\n",
    "X = sm.add_constant(df['hours_studied'])\n",
    "\n",
    "# Dependent variable\n",
    "y = df['exam_score']\n",
    "\n",
    "# Fit the regression model\n",
    "model = sm.OLS(y, X).fit()\n",
    "\n",
    "# Get the predictions\n",
    "predictions = model.predict(X)\n",
    "\n",
    "# Summary of the model\n",
    "print(model.summary())"
   ]
  },
  {
   "cell_type": "markdown",
   "id": "59a1df07",
   "metadata": {},
   "source": [
    "**Regression Result:**\n",
    "    \n",
    "The regression output will provide an equation like exam_score = b0 + b1*hours_studied, where b0 is the intercept and b1 is the slope. This equation can be used to predict exam scores. The R-squared value in the summary tells us how much of the variance in exam scores is explained by hours studied."
   ]
  },
  {
   "cell_type": "markdown",
   "id": "3cd6ddbf",
   "metadata": {},
   "source": [
    " Examples:\n",
    "\n",
    "  -  Business and Economics\n",
    "\n",
    "Market Research: \n",
    "\n",
    "Correlation is used to understand the relationship between consumer behavior (like time spent on a website) and sales. Regression can predict future sales based on factors like advertising spend, market trends, or seasonal effects.\n",
    "    \n",
    "Risk Management:\n",
    "\n",
    "In finance, regression models are used to assess the risk of investment portfolios, predicting how different financial assets are likely to perform based on historical data."
   ]
  },
  {
   "cell_type": "code",
   "execution_count": null,
   "id": "1215a979",
   "metadata": {},
   "outputs": [],
   "source": [
    "1. Covriance(x,y) = Σ(xi-x^)*(yi-y^)/(n-1), it's also similiar with variance (there is cov of x with x). \n",
    "           just look the formula of var.\n",
    "x increase, y increase ==> +ve cov\n",
    "x decrease, y decrease ==> +ve cov\n",
    "\n",
    "x increase, y decrease ==> -ve cov\n",
    "x decrease, y increase ==> -ve cov\n",
    "\n",
    "Advantage of Cov:\n",
    "    Able to quantify relationship be x & y. +ve or -ve value\n",
    "    \n",
    "Disadvantage of Cov:\n",
    "    Cov doesn't provide speicifc limit value.\n",
    "\n",
    "2. Pearson Correlation Coefficient:[-1 to +1]\n",
    "    = cov(x,y)/(σx*σy).\n",
    " (i). The more the value towards +1 the more +ve correlation it is (x,y).\n",
    " (ii). The more the value towards -1 the more -ve correlation it is (x,y).\n",
    "    \n",
    "3. Spearman Rank Correlation:\n",
    "    =Cov(R(x), R(y))/(σR(x)*σR(y))"
   ]
  },
  {
   "cell_type": "code",
   "execution_count": 25,
   "id": "bac0088a",
   "metadata": {},
   "outputs": [
    {
     "data": {
      "text/html": [
       "<div>\n",
       "<style scoped>\n",
       "    .dataframe tbody tr th:only-of-type {\n",
       "        vertical-align: middle;\n",
       "    }\n",
       "\n",
       "    .dataframe tbody tr th {\n",
       "        vertical-align: top;\n",
       "    }\n",
       "\n",
       "    .dataframe thead th {\n",
       "        text-align: right;\n",
       "    }\n",
       "</style>\n",
       "<table border=\"1\" class=\"dataframe\">\n",
       "  <thead>\n",
       "    <tr style=\"text-align: right;\">\n",
       "      <th></th>\n",
       "      <th>Unnamed: 0</th>\n",
       "      <th>id</th>\n",
       "      <th>diet</th>\n",
       "      <th>pulse</th>\n",
       "      <th>time</th>\n",
       "      <th>kind</th>\n",
       "    </tr>\n",
       "  </thead>\n",
       "  <tbody>\n",
       "    <tr>\n",
       "      <th>0</th>\n",
       "      <td>0</td>\n",
       "      <td>1</td>\n",
       "      <td>low fat</td>\n",
       "      <td>85</td>\n",
       "      <td>1 min</td>\n",
       "      <td>rest</td>\n",
       "    </tr>\n",
       "    <tr>\n",
       "      <th>1</th>\n",
       "      <td>1</td>\n",
       "      <td>1</td>\n",
       "      <td>low fat</td>\n",
       "      <td>85</td>\n",
       "      <td>15 min</td>\n",
       "      <td>rest</td>\n",
       "    </tr>\n",
       "    <tr>\n",
       "      <th>2</th>\n",
       "      <td>2</td>\n",
       "      <td>1</td>\n",
       "      <td>low fat</td>\n",
       "      <td>88</td>\n",
       "      <td>30 min</td>\n",
       "      <td>rest</td>\n",
       "    </tr>\n",
       "    <tr>\n",
       "      <th>3</th>\n",
       "      <td>3</td>\n",
       "      <td>2</td>\n",
       "      <td>low fat</td>\n",
       "      <td>90</td>\n",
       "      <td>1 min</td>\n",
       "      <td>rest</td>\n",
       "    </tr>\n",
       "    <tr>\n",
       "      <th>4</th>\n",
       "      <td>4</td>\n",
       "      <td>2</td>\n",
       "      <td>low fat</td>\n",
       "      <td>92</td>\n",
       "      <td>15 min</td>\n",
       "      <td>rest</td>\n",
       "    </tr>\n",
       "  </tbody>\n",
       "</table>\n",
       "</div>"
      ],
      "text/plain": [
       "   Unnamed: 0  id     diet  pulse    time  kind\n",
       "0           0   1  low fat     85   1 min  rest\n",
       "1           1   1  low fat     85  15 min  rest\n",
       "2           2   1  low fat     88  30 min  rest\n",
       "3           3   2  low fat     90   1 min  rest\n",
       "4           4   2  low fat     92  15 min  rest"
      ]
     },
     "execution_count": 25,
     "metadata": {},
     "output_type": "execute_result"
    }
   ],
   "source": [
    "import seaborn as sns\n",
    "df=sns.load_dataset('exercise')\n",
    "df.head()"
   ]
  },
  {
   "cell_type": "code",
   "execution_count": 26,
   "id": "81d5b947",
   "metadata": {},
   "outputs": [],
   "source": [
    "# Covariance\n",
    "import numpy as np"
   ]
  },
  {
   "cell_type": "code",
   "execution_count": 27,
   "id": "a3fb8918",
   "metadata": {},
   "outputs": [
    {
     "data": {
      "text/html": [
       "<div>\n",
       "<style scoped>\n",
       "    .dataframe tbody tr th:only-of-type {\n",
       "        vertical-align: middle;\n",
       "    }\n",
       "\n",
       "    .dataframe tbody tr th {\n",
       "        vertical-align: top;\n",
       "    }\n",
       "\n",
       "    .dataframe thead th {\n",
       "        text-align: right;\n",
       "    }\n",
       "</style>\n",
       "<table border=\"1\" class=\"dataframe\">\n",
       "  <thead>\n",
       "    <tr style=\"text-align: right;\">\n",
       "      <th></th>\n",
       "      <th>Unnamed: 0</th>\n",
       "      <th>id</th>\n",
       "      <th>pulse</th>\n",
       "    </tr>\n",
       "  </thead>\n",
       "  <tbody>\n",
       "    <tr>\n",
       "      <th>Unnamed: 0</th>\n",
       "      <td>682.500000</td>\n",
       "      <td>227.275281</td>\n",
       "      <td>267.252809</td>\n",
       "    </tr>\n",
       "    <tr>\n",
       "      <th>id</th>\n",
       "      <td>227.275281</td>\n",
       "      <td>75.758427</td>\n",
       "      <td>87.814607</td>\n",
       "    </tr>\n",
       "    <tr>\n",
       "      <th>pulse</th>\n",
       "      <td>267.252809</td>\n",
       "      <td>87.814607</td>\n",
       "      <td>220.774157</td>\n",
       "    </tr>\n",
       "  </tbody>\n",
       "</table>\n",
       "</div>"
      ],
      "text/plain": [
       "            Unnamed: 0          id       pulse\n",
       "Unnamed: 0  682.500000  227.275281  267.252809\n",
       "id          227.275281   75.758427   87.814607\n",
       "pulse       267.252809   87.814607  220.774157"
      ]
     },
     "execution_count": 27,
     "metadata": {},
     "output_type": "execute_result"
    }
   ],
   "source": [
    "df.cov()"
   ]
  },
  {
   "cell_type": "code",
   "execution_count": 29,
   "id": "6f680e1e",
   "metadata": {},
   "outputs": [
    {
     "data": {
      "text/html": [
       "<div>\n",
       "<style scoped>\n",
       "    .dataframe tbody tr th:only-of-type {\n",
       "        vertical-align: middle;\n",
       "    }\n",
       "\n",
       "    .dataframe tbody tr th {\n",
       "        vertical-align: top;\n",
       "    }\n",
       "\n",
       "    .dataframe thead th {\n",
       "        text-align: right;\n",
       "    }\n",
       "</style>\n",
       "<table border=\"1\" class=\"dataframe\">\n",
       "  <thead>\n",
       "    <tr style=\"text-align: right;\">\n",
       "      <th></th>\n",
       "      <th>Unnamed: 0</th>\n",
       "      <th>id</th>\n",
       "      <th>pulse</th>\n",
       "    </tr>\n",
       "  </thead>\n",
       "  <tbody>\n",
       "    <tr>\n",
       "      <th>Unnamed: 0</th>\n",
       "      <td>1.000000</td>\n",
       "      <td>0.999506</td>\n",
       "      <td>0.708812</td>\n",
       "    </tr>\n",
       "    <tr>\n",
       "      <th>id</th>\n",
       "      <td>0.999506</td>\n",
       "      <td>1.000000</td>\n",
       "      <td>0.701185</td>\n",
       "    </tr>\n",
       "    <tr>\n",
       "      <th>pulse</th>\n",
       "      <td>0.708812</td>\n",
       "      <td>0.701185</td>\n",
       "      <td>1.000000</td>\n",
       "    </tr>\n",
       "  </tbody>\n",
       "</table>\n",
       "</div>"
      ],
      "text/plain": [
       "            Unnamed: 0        id     pulse\n",
       "Unnamed: 0    1.000000  0.999506  0.708812\n",
       "id            0.999506  1.000000  0.701185\n",
       "pulse         0.708812  0.701185  1.000000"
      ]
     },
     "execution_count": 29,
     "metadata": {},
     "output_type": "execute_result"
    }
   ],
   "source": [
    "# Spear Rank Correlation\n",
    "df.corr(method='spearman')"
   ]
  },
  {
   "cell_type": "code",
   "execution_count": 30,
   "id": "5db10de1",
   "metadata": {},
   "outputs": [
    {
     "data": {
      "text/html": [
       "<div>\n",
       "<style scoped>\n",
       "    .dataframe tbody tr th:only-of-type {\n",
       "        vertical-align: middle;\n",
       "    }\n",
       "\n",
       "    .dataframe tbody tr th {\n",
       "        vertical-align: top;\n",
       "    }\n",
       "\n",
       "    .dataframe thead th {\n",
       "        text-align: right;\n",
       "    }\n",
       "</style>\n",
       "<table border=\"1\" class=\"dataframe\">\n",
       "  <thead>\n",
       "    <tr style=\"text-align: right;\">\n",
       "      <th></th>\n",
       "      <th>Unnamed: 0</th>\n",
       "      <th>id</th>\n",
       "      <th>pulse</th>\n",
       "    </tr>\n",
       "  </thead>\n",
       "  <tbody>\n",
       "    <tr>\n",
       "      <th>Unnamed: 0</th>\n",
       "      <td>1.000000</td>\n",
       "      <td>0.999506</td>\n",
       "      <td>0.688489</td>\n",
       "    </tr>\n",
       "    <tr>\n",
       "      <th>id</th>\n",
       "      <td>0.999506</td>\n",
       "      <td>1.000000</td>\n",
       "      <td>0.679012</td>\n",
       "    </tr>\n",
       "    <tr>\n",
       "      <th>pulse</th>\n",
       "      <td>0.688489</td>\n",
       "      <td>0.679012</td>\n",
       "      <td>1.000000</td>\n",
       "    </tr>\n",
       "  </tbody>\n",
       "</table>\n",
       "</div>"
      ],
      "text/plain": [
       "            Unnamed: 0        id     pulse\n",
       "Unnamed: 0    1.000000  0.999506  0.688489\n",
       "id            0.999506  1.000000  0.679012\n",
       "pulse         0.688489  0.679012  1.000000"
      ]
     },
     "execution_count": 30,
     "metadata": {},
     "output_type": "execute_result"
    }
   ],
   "source": [
    "# Pearson Correlation\n",
    "df.corr(method='pearson')"
   ]
  },
  {
   "cell_type": "code",
   "execution_count": 33,
   "id": "e102154e",
   "metadata": {},
   "outputs": [
    {
     "data": {
      "text/html": [
       "<div>\n",
       "<style scoped>\n",
       "    .dataframe tbody tr th:only-of-type {\n",
       "        vertical-align: middle;\n",
       "    }\n",
       "\n",
       "    .dataframe tbody tr th {\n",
       "        vertical-align: top;\n",
       "    }\n",
       "\n",
       "    .dataframe thead th {\n",
       "        text-align: right;\n",
       "    }\n",
       "</style>\n",
       "<table border=\"1\" class=\"dataframe\">\n",
       "  <thead>\n",
       "    <tr style=\"text-align: right;\">\n",
       "      <th></th>\n",
       "      <th>bill_length_mm</th>\n",
       "      <th>bill_depth_mm</th>\n",
       "      <th>flipper_length_mm</th>\n",
       "      <th>body_mass_g</th>\n",
       "    </tr>\n",
       "  </thead>\n",
       "  <tbody>\n",
       "    <tr>\n",
       "      <th>bill_length_mm</th>\n",
       "      <td>1.000000</td>\n",
       "      <td>-0.235053</td>\n",
       "      <td>0.656181</td>\n",
       "      <td>0.595110</td>\n",
       "    </tr>\n",
       "    <tr>\n",
       "      <th>bill_depth_mm</th>\n",
       "      <td>-0.235053</td>\n",
       "      <td>1.000000</td>\n",
       "      <td>-0.583851</td>\n",
       "      <td>-0.471916</td>\n",
       "    </tr>\n",
       "    <tr>\n",
       "      <th>flipper_length_mm</th>\n",
       "      <td>0.656181</td>\n",
       "      <td>-0.583851</td>\n",
       "      <td>1.000000</td>\n",
       "      <td>0.871202</td>\n",
       "    </tr>\n",
       "    <tr>\n",
       "      <th>body_mass_g</th>\n",
       "      <td>0.595110</td>\n",
       "      <td>-0.471916</td>\n",
       "      <td>0.871202</td>\n",
       "      <td>1.000000</td>\n",
       "    </tr>\n",
       "  </tbody>\n",
       "</table>\n",
       "</div>"
      ],
      "text/plain": [
       "                   bill_length_mm  bill_depth_mm  flipper_length_mm  \\\n",
       "bill_length_mm           1.000000      -0.235053           0.656181   \n",
       "bill_depth_mm           -0.235053       1.000000          -0.583851   \n",
       "flipper_length_mm        0.656181      -0.583851           1.000000   \n",
       "body_mass_g              0.595110      -0.471916           0.871202   \n",
       "\n",
       "                   body_mass_g  \n",
       "bill_length_mm        0.595110  \n",
       "bill_depth_mm        -0.471916  \n",
       "flipper_length_mm     0.871202  \n",
       "body_mass_g           1.000000  "
      ]
     },
     "execution_count": 33,
     "metadata": {},
     "output_type": "execute_result"
    }
   ],
   "source": [
    "df1 = sns.load_dataset('penguins')\n",
    "df1.corr()"
   ]
  },
  {
   "cell_type": "markdown",
   "id": "3971ef2c",
   "metadata": {},
   "source": [
    "# Skewness:"
   ]
  },
  {
   "cell_type": "code",
   "execution_count": null,
   "id": "db40ed37",
   "metadata": {},
   "outputs": [],
   "source": [
    "# Skewness\n",
    "1. Symmetrical Distribution(mean=median=mode)\n",
    "      (Normal/Gaussian distribution)\n",
    "No Skewness in symmetrical distribution:i.e., The mean, median and mode all are perfectly at the center.\n",
    "    \n",
    "2. Right Skewed:\n",
    "    Positive skewed(Bent towards right side).\n",
    "    => mean>median>mode\n",
    "    \n",
    "    Q3-Q2>Q2-Q1 (Box Plot)\n",
    "    \n",
    "3. Left Skewed:\n",
    "        Negative skewed:(Bent towards left side)\n",
    "        => mean<meadian<mode"
   ]
  },
  {
   "cell_type": "markdown",
   "id": "ac691382",
   "metadata": {},
   "source": [
    "# Histograms:"
   ]
  },
  {
   "cell_type": "code",
   "execution_count": null,
   "id": "75064428",
   "metadata": {},
   "outputs": [],
   "source": [
    "# Histogram[Frequency]\n",
    "Used to summarize the data.\n",
    "  Example:\n",
    "    Ages = {10,12,14,18,24,26,30,35,37,40,41,42,43,50,51}\n",
    "    Bin size = highest-lowest/total_count"
   ]
  },
  {
   "cell_type": "code",
   "execution_count": 6,
   "id": "59d886a8",
   "metadata": {},
   "outputs": [
    {
     "data": {
      "image/png": "[encoded data removed]",
      "text/plain": [
       "<Figure size 640x480 with 1 Axes>"
      ]
     },
     "metadata": {},
     "output_type": "display_data"
    }
   ],
   "source": [
    "import numpy as np\n",
    "import matplotlib.pyplot as plt\n",
    "\n",
    "ages = np.array([10, 12, 14, 18, 24, 26, 30, 35, 37, 40, 41, 42, 43, 50, 51])\n",
    "\n",
    "# Calculate bin size using Freedman-Diaconis rule\n",
    "iqr = np.percentile(ages, 75) - np.percentile(ages, 25)\n",
    "bin_size = 2 * iqr / len(ages)^(1/3)    ## (1/3)= cube root\n",
    "\n",
    "# Calculate number of bins\n",
    "highest = np.max(ages)\n",
    "lowest = np.min(ages)\n",
    "num_bins = round((highest - lowest) / bin_size)\n",
    "\n",
    "# Create histogram\n",
    "plt.hist(ages, bins=num_bins, edgecolor='black')\n",
    "\n",
    "# Add labels and title\n",
    "plt.xlabel('Age')\n",
    "plt.ylabel('Frequency')\n",
    "plt.title('Age Distribution')\n",
    "\n",
    "# Show plot\n",
    "plt.show()\n"
   ]
  },
  {
   "cell_type": "code",
   "execution_count": null,
   "id": "8bcaa1a1",
   "metadata": {},
   "outputs": [],
   "source": []
  },
  {
   "cell_type": "markdown",
   "id": "9b483760",
   "metadata": {},
   "source": [
    "## Discrete Random Variables\n",
    "\n",
    "Quantization of Values: \n",
    "\n",
    "    Discrete random variables take on values that are distinct and separate (quantized). This means there are clear gaps between the values, and the variable cannot take on any value in between these.\n",
    "\n",
    "**Examples with More Details:**\n",
    "\n",
    "Dice Roll: When you roll a die, the possible outcomes are 1, 2, 3, 4, 5, or 6. Each of these outcomes is a discrete value.\n",
    "\n",
    "Customer Arrival: The number of customers arriving at a store in a day can be 0, 1, 2, 3, etc., but not 3.5 or 2.7."
   ]
  },
  {
   "cell_type": "markdown",
   "id": "0144397f",
   "metadata": {},
   "source": [
    "Number of Sales Transactions: \n",
    "    \n",
    "In retail or e-commerce, the number of sales transactions per day is a discrete random variable. Businesses analyze this data to understand daily sales patterns, peak shopping times, and customer buying behavior.\n",
    "\n",
    "Customer Complaints: \n",
    "    \n",
    "The number of customer complaints received in a given period (e.g., per day or per week) is a discrete random variable. Analyzing this data helps businesses identify areas for improvement in products or services."
   ]
  },
  {
   "cell_type": "markdown",
   "id": "b9ae0c38",
   "metadata": {},
   "source": [
    "**Key Points to Remember**\n",
    "\n",
    "- Discreteness vs. Continuity:\n",
    "\n",
    "Discrete random variables differ from continuous random variables in that they have specific, countable outcomes rather than any value within a range.\n",
    "\n",
    "- Dependency on Context: \n",
    "\n",
    "The choice of distribution often depends on the context of the problem and the nature of the data.\n",
    "\n",
    "- Statistical Inference: \n",
    "    \n",
    "Discrete random variables are essential in hypothesis testing and other inferential statistics methods."
   ]
  },
  {
   "cell_type": "markdown",
   "id": "6c4351ea",
   "metadata": {},
   "source": [
    "# Probability Distribution Function/Density Function:"
   ]
  },
  {
   "cell_type": "code",
   "execution_count": null,
   "id": "1f69c0c2",
   "metadata": {},
   "outputs": [],
   "source": [
    "1. Probability Distribution Function(pdf):\n",
    "     Distribution of the continous data. eg: Height of students\n",
    "       Pr(X)= Area under the curve  ## [0 to 1]\n",
    "    \n",
    "2. Probability mass Function(pmf):\n",
    "     Distribution of a discrete random variable. \n",
    "        eg: Rolling a dice{1,2,3,4,5,6}\n",
    "            Pr(X)=P(A)+P(B)+P(C)\n",
    "# A PMF gives the probability of a specific outcome, while a PDF gives the probability density of an outcome.\n",
    "            \n",
    "# Cumulative density function (CDF): The cumulative probability up to a specific value.\n",
    "        \n",
    "3. Cummulative Distribution Function (CMF):\n",
    "    F(x) = P(X < x)\n",
    "    example below-"
   ]
  },
  {
   "cell_type": "code",
   "execution_count": 1,
   "id": "8cfe9244",
   "metadata": {},
   "outputs": [
    {
     "data": {
      "image/png": "[encoded data removed]",
      "text/plain": [
       "<Figure size 640x480 with 1 Axes>"
      ]
     },
     "metadata": {},
     "output_type": "display_data"
    }
   ],
   "source": [
    "import numpy as np\n",
    "import matplotlib.pyplot as plt\n",
    "\n",
    "def pdf(data, bins):\n",
    "    hist, bin_edges = np.histogram(data, bins=bins, density=True)\n",
    "    bin_centers = 0.5 * (bin_edges[:-1] + bin_edges[1:])\n",
    "    return bin_centers, hist\n",
    "\n",
    "data = [2, 4, 6, 8, 10, 12, 14, 16, 18, 20]\n",
    "bins = 5\n",
    "xvals, yvals = pdf(data, bins)\n",
    "\n",
    "plt.plot(xvals, yvals, 'bo-')\n",
    "plt.title('Probability Distribution Function')\n",
    "plt.xlabel('Data Values')\n",
    "plt.ylabel('PDF')\n",
    "plt.show()\n"
   ]
  },
  {
   "cell_type": "code",
   "execution_count": 2,
   "id": "5d09c79a",
   "metadata": {},
   "outputs": [
    {
     "data": {
      "image/png": "[encoded data removed]",
      "text/plain": [
       "<Figure size 640x480 with 1 Axes>"
      ]
     },
     "metadata": {},
     "output_type": "display_data"
    }
   ],
   "source": [
    "import numpy as np\n",
    "import matplotlib.pyplot as plt\n",
    "\n",
    "def cdf(data):\n",
    "    sorted_data = np.sort(data)\n",
    "    yvals = np.arange(len(sorted_data))/float(len(sorted_data))\n",
    "    return sorted_data, yvals\n",
    "\n",
    "data = [2, 4, 6, 8, 10, 12, 14, 16, 18, 20]\n",
    "xvals, yvals = cdf(data)\n",
    "\n",
    "plt.step(xvals, yvals)\n",
    "plt.title('Cumulative Distribution Function')\n",
    "plt.xlabel('Data Values')\n",
    "plt.ylabel('CDF')\n",
    "plt.show()\n"
   ]
  },
  {
   "cell_type": "code",
   "execution_count": null,
   "id": "db1deb1d",
   "metadata": {},
   "outputs": [],
   "source": [
    "# Types of Probability Distribution:\n",
    "\n",
    "\n",
    "(i). Normal/ Guassian ditribution(pdf): mostly in Bell curve\n",
    "     also called as symmetric distribution\n",
    "  Emprical Rule: 68-95-99.7%\n",
    "     iska mtlb yeh hua ki jo bhi normal distribution h uska \n",
    "           68% of entire data falling within the 1st std deviation.(µ-σ,µ+σ)\n",
    "   similarly, for 95% data falling within 2nd std.(µ-2σ,µ+2σ)\n",
    "              for 99.7% data falling within 3rd std(µ-3σ,µ+3σ)\n",
    "    \n",
    "    OR \n",
    "          Pr(µ-σ ≤ X ≤ µ+σ) ≈ 68%\n",
    "          Pr(µ-2σ ≤ X ≤ µ=+2σ) ≈ 95%\n",
    "          Pr(µ-3σ ≤ X ≤ µ+3σ) ≈ 99.7%\n",
    "    \n",
    "  eg. Weight,Height, Iris Dataset.\n",
    "\n",
    "example given below:"
   ]
  },
  {
   "cell_type": "code",
   "execution_count": 14,
   "id": "03f69b42",
   "metadata": {
    "scrolled": false
   },
   "outputs": [
    {
     "data": {
      "image/png": "[encoded data removed]",
      "text/plain": [
       "<Figure size 640x480 with 1 Axes>"
      ]
     },
     "metadata": {},
     "output_type": "display_data"
    }
   ],
   "source": [
    "import numpy as np\n",
    "import matplotlib.pyplot as plt\n",
    "\n",
    "def normal_pdf(x, mu, sigma):\n",
    "    return (1/(sigma*np.sqrt(2*np.pi)))*np.exp(-((x-mu)**2)/(2*sigma**2))\n",
    "\n",
    "mu = 5\n",
    "sigma = 1\n",
    "x = np.linspace(mu - 3*sigma, mu + 3*sigma, 1000)\n",
    "y = normal_pdf(x, mu, sigma)\n",
    "\n",
    "plt.plot(x, y)\n",
    "plt.title('Normal Distribution Function')\n",
    "plt.xlabel('µ')\n",
    "plt.ylabel('PDF')\n",
    "plt.show()\n",
    "\n",
    "# To use this program with your own mean and standard deviation,\n",
    "#  simply replace the mu and sigma variables with your own values."
   ]
  },
  {
   "cell_type": "markdown",
   "id": "fde803be",
   "metadata": {},
   "source": [
    "QQ PLOT: Quantile-Quantile Plot:"
   ]
  },
  {
   "cell_type": "code",
   "execution_count": 17,
   "id": "9b6b7957",
   "metadata": {},
   "outputs": [],
   "source": [
    "# Q-Q Plot: TO Check whether a Distribution is guassian/normal distributon.\n",
    "\n",
    "import scipy.stats as stat\n",
    "import pylab\n",
    "import numpy as np\n",
    "import seaborn as sns\n",
    "import matplotlib.pyplot as plt"
   ]
  },
  {
   "cell_type": "code",
   "execution_count": 18,
   "id": "e1196c6c",
   "metadata": {},
   "outputs": [
    {
     "data": {
      "text/html": [
       "<div>\n",
       "<style scoped>\n",
       "    .dataframe tbody tr th:only-of-type {\n",
       "        vertical-align: middle;\n",
       "    }\n",
       "\n",
       "    .dataframe tbody tr th {\n",
       "        vertical-align: top;\n",
       "    }\n",
       "\n",
       "    .dataframe thead th {\n",
       "        text-align: right;\n",
       "    }\n",
       "</style>\n",
       "<table border=\"1\" class=\"dataframe\">\n",
       "  <thead>\n",
       "    <tr style=\"text-align: right;\">\n",
       "      <th></th>\n",
       "      <th>sepal_length</th>\n",
       "      <th>sepal_width</th>\n",
       "      <th>petal_length</th>\n",
       "      <th>petal_width</th>\n",
       "      <th>species</th>\n",
       "    </tr>\n",
       "  </thead>\n",
       "  <tbody>\n",
       "    <tr>\n",
       "      <th>0</th>\n",
       "      <td>5.1</td>\n",
       "      <td>3.5</td>\n",
       "      <td>1.4</td>\n",
       "      <td>0.2</td>\n",
       "      <td>setosa</td>\n",
       "    </tr>\n",
       "    <tr>\n",
       "      <th>1</th>\n",
       "      <td>4.9</td>\n",
       "      <td>3.0</td>\n",
       "      <td>1.4</td>\n",
       "      <td>0.2</td>\n",
       "      <td>setosa</td>\n",
       "    </tr>\n",
       "    <tr>\n",
       "      <th>2</th>\n",
       "      <td>4.7</td>\n",
       "      <td>3.2</td>\n",
       "      <td>1.3</td>\n",
       "      <td>0.2</td>\n",
       "      <td>setosa</td>\n",
       "    </tr>\n",
       "    <tr>\n",
       "      <th>3</th>\n",
       "      <td>4.6</td>\n",
       "      <td>3.1</td>\n",
       "      <td>1.5</td>\n",
       "      <td>0.2</td>\n",
       "      <td>setosa</td>\n",
       "    </tr>\n",
       "    <tr>\n",
       "      <th>4</th>\n",
       "      <td>5.0</td>\n",
       "      <td>3.6</td>\n",
       "      <td>1.4</td>\n",
       "      <td>0.2</td>\n",
       "      <td>setosa</td>\n",
       "    </tr>\n",
       "  </tbody>\n",
       "</table>\n",
       "</div>"
      ],
      "text/plain": [
       "   sepal_length  sepal_width  petal_length  petal_width species\n",
       "0           5.1          3.5           1.4          0.2  setosa\n",
       "1           4.9          3.0           1.4          0.2  setosa\n",
       "2           4.7          3.2           1.3          0.2  setosa\n",
       "3           4.6          3.1           1.5          0.2  setosa\n",
       "4           5.0          3.6           1.4          0.2  setosa"
      ]
     },
     "execution_count": 18,
     "metadata": {},
     "output_type": "execute_result"
    }
   ],
   "source": [
    "df=sns.load_dataset('iris')\n",
    "df.head()"
   ]
  },
  {
   "cell_type": "code",
   "execution_count": 22,
   "id": "d6f91f8f",
   "metadata": {},
   "outputs": [],
   "source": [
    "def plot_data(df,feature):\n",
    "    plt.figure(figsize=(10,6))\n",
    "    plt.subplot(1,2,1)\n",
    "    sns.histplot(df[feature],kde=True)\n",
    "    plt.subplot(1,2,2)\n",
    "    stat.probplot(df[feature],dist='norm',plot=pylab)\n",
    "    plt.show()\n",
    "    \n",
    "# probplot: Calculate quantiles for a probability plot, and optionally show the plot.\n",
    "# normal distribution follow a pariticular straight line, here values are following red line"
   ]
  },
  {
   "cell_type": "code",
   "execution_count": 23,
   "id": "0b819e6e",
   "metadata": {},
   "outputs": [
    {
     "data": {
      "image/png": "[encoded data removed]",
      "text/plain": [
       "<Figure size 1000x600 with 2 Axes>"
      ]
     },
     "metadata": {},
     "output_type": "display_data"
    }
   ],
   "source": [
    "plot_data(df,'sepal_width')\n",
    "\n",
    "# here we find this distribution is normal distribution bcz it's follow a straight line(red)."
   ]
  },
  {
   "cell_type": "code",
   "execution_count": 24,
   "id": "0ec402aa",
   "metadata": {},
   "outputs": [
    {
     "data": {
      "text/html": [
       "<div>\n",
       "<style scoped>\n",
       "    .dataframe tbody tr th:only-of-type {\n",
       "        vertical-align: middle;\n",
       "    }\n",
       "\n",
       "    .dataframe tbody tr th {\n",
       "        vertical-align: top;\n",
       "    }\n",
       "\n",
       "    .dataframe thead th {\n",
       "        text-align: right;\n",
       "    }\n",
       "</style>\n",
       "<table border=\"1\" class=\"dataframe\">\n",
       "  <thead>\n",
       "    <tr style=\"text-align: right;\">\n",
       "      <th></th>\n",
       "      <th>total_bill</th>\n",
       "      <th>tip</th>\n",
       "      <th>sex</th>\n",
       "      <th>smoker</th>\n",
       "      <th>day</th>\n",
       "      <th>time</th>\n",
       "      <th>size</th>\n",
       "    </tr>\n",
       "  </thead>\n",
       "  <tbody>\n",
       "    <tr>\n",
       "      <th>0</th>\n",
       "      <td>16.99</td>\n",
       "      <td>1.01</td>\n",
       "      <td>Female</td>\n",
       "      <td>No</td>\n",
       "      <td>Sun</td>\n",
       "      <td>Dinner</td>\n",
       "      <td>2</td>\n",
       "    </tr>\n",
       "    <tr>\n",
       "      <th>1</th>\n",
       "      <td>10.34</td>\n",
       "      <td>1.66</td>\n",
       "      <td>Male</td>\n",
       "      <td>No</td>\n",
       "      <td>Sun</td>\n",
       "      <td>Dinner</td>\n",
       "      <td>3</td>\n",
       "    </tr>\n",
       "    <tr>\n",
       "      <th>2</th>\n",
       "      <td>21.01</td>\n",
       "      <td>3.50</td>\n",
       "      <td>Male</td>\n",
       "      <td>No</td>\n",
       "      <td>Sun</td>\n",
       "      <td>Dinner</td>\n",
       "      <td>3</td>\n",
       "    </tr>\n",
       "    <tr>\n",
       "      <th>3</th>\n",
       "      <td>23.68</td>\n",
       "      <td>3.31</td>\n",
       "      <td>Male</td>\n",
       "      <td>No</td>\n",
       "      <td>Sun</td>\n",
       "      <td>Dinner</td>\n",
       "      <td>2</td>\n",
       "    </tr>\n",
       "    <tr>\n",
       "      <th>4</th>\n",
       "      <td>24.59</td>\n",
       "      <td>3.61</td>\n",
       "      <td>Female</td>\n",
       "      <td>No</td>\n",
       "      <td>Sun</td>\n",
       "      <td>Dinner</td>\n",
       "      <td>4</td>\n",
       "    </tr>\n",
       "  </tbody>\n",
       "</table>\n",
       "</div>"
      ],
      "text/plain": [
       "   total_bill   tip     sex smoker  day    time  size\n",
       "0       16.99  1.01  Female     No  Sun  Dinner     2\n",
       "1       10.34  1.66    Male     No  Sun  Dinner     3\n",
       "2       21.01  3.50    Male     No  Sun  Dinner     3\n",
       "3       23.68  3.31    Male     No  Sun  Dinner     2\n",
       "4       24.59  3.61  Female     No  Sun  Dinner     4"
      ]
     },
     "execution_count": 24,
     "metadata": {},
     "output_type": "execute_result"
    }
   ],
   "source": [
    "df=sns.load_dataset('tips')\n",
    "df.head()"
   ]
  },
  {
   "cell_type": "code",
   "execution_count": 26,
   "id": "011020bc",
   "metadata": {},
   "outputs": [
    {
     "data": {
      "image/png": "[encoded data removed]",
      "text/plain": [
       "<Figure size 1000x600 with 2 Axes>"
      ]
     },
     "metadata": {},
     "output_type": "display_data"
    }
   ],
   "source": [
    "plot_data(df,'total_bill')\n",
    "# here we find this distribution is not a normal distribution bcz it doesn't follow a straight line(red)."
   ]
  },
  {
   "cell_type": "code",
   "execution_count": null,
   "id": "2e54e9b8",
   "metadata": {},
   "outputs": [],
   "source": [
    "(ii). Bernoulli Distribution Function (PMF):\n",
    "    Binary outcomes: Outcomes are {success or failure}\n",
    "        p=p , q=1-p\n",
    "# Mean, variance and std for Bernoulli Distribution.\n",
    "    mean = p\n",
    "    var = p(1-p)=pq\n",
    "    std = sqrt(pq)\n",
    "    \n",
    "  PMF = {q=1-p  if k=0\n",
    "        { p     if k=1 \n",
    "         \n",
    "example:"
   ]
  },
  {
   "cell_type": "code",
   "execution_count": 4,
   "id": "98efa435",
   "metadata": {},
   "outputs": [
    {
     "data": {
      "image/png": "[encoded data removed]",
      "text/plain": [
       "<Figure size 640x480 with 1 Axes>"
      ]
     },
     "metadata": {},
     "output_type": "display_data"
    }
   ],
   "source": [
    "import numpy as np\n",
    "import matplotlib.pyplot as plt\n",
    "\n",
    "def bernoulli_pmf(k, p):\n",
    "    return (p**k) * (1-p)**(1-k)\n",
    "\n",
    "p = 0.7\n",
    "k = np.array([0, 1])\n",
    "pmf = bernoulli_pmf(k, p)\n",
    "\n",
    "plt.stem(k, pmf)\n",
    "plt.title('Bernoulli Distribution Function')\n",
    "plt.xlabel('k')\n",
    "plt.ylabel('PMF')\n",
    "plt.xticks(k, ('0', '1'))\n",
    "plt.show()\n",
    "\n",
    "# To use this program with your own probability of success, simply replace the p variable\n",
    "#  with your own probability value. Note that the k variable is set to an array of [0, 1]\n",
    "#  for the Bernoulli distribution function since there are only two possible outcomes (success or failure)."
   ]
  },
  {
   "cell_type": "markdown",
   "id": "5aaf2c06",
   "metadata": {},
   "source": []
  },
  {
   "cell_type": "code",
   "execution_count": 11,
   "id": "dab544ed",
   "metadata": {},
   "outputs": [
    {
     "data": {
      "image/png": "[encoded data removed]",
      "text/plain": [
       "<Figure size 640x480 with 1 Axes>"
      ]
     },
     "metadata": {},
     "output_type": "display_data"
    }
   ],
   "source": [
    "# example 2: Tossing a fair coin\n",
    "\n",
    "import numpy as np\n",
    "import matplotlib.pyplot as plt\n",
    "\n",
    "def coin_pmf(x, p=0.5):\n",
    "    return p**x * (1-p)**(1-x)\n",
    "\n",
    "x = np.arange(0, 2)\n",
    "pmf = coin_pmf(x)\n",
    "\n",
    "plt.stem(x, pmf)\n",
    "plt.title('Fair Coin Probability Mass Function')\n",
    "plt.xlabel('x')\n",
    "plt.ylabel('PMF')\n",
    "plt.xticks(x, ('Tails', 'Heads'))\n",
    "plt.show()\n"
   ]
  },
  {
   "cell_type": "code",
   "execution_count": null,
   "id": "a59c8551",
   "metadata": {},
   "outputs": [],
   "source": [
    "(iii). Binomial Distributions:\n",
    "       Binomial Distribution with parameters n & p is the discrete prob \n",
    "        distribution of success in a sequence of n independent experiments.\n",
    "#       combines various bernoulli distribution.\n",
    "        \n",
    "Parameters:\n",
    "    n = no. of Trails or experiments\n",
    "    p = success or probability for each trial\n",
    "    q = 1-p\n",
    "    k = no. of success\n",
    "    \n",
    "PMF: P(k)=nCk*(p^k)*(1-p)^(n-k)\n",
    "    C= combination wala C\n",
    "    \n",
    "  Mean of Binomial Distribution:\n",
    "    mean = np\n",
    "    variance = npq\n",
    "    std = sqrt(npq)"
   ]
  },
  {
   "cell_type": "code",
   "execution_count": 12,
   "id": "1079358f",
   "metadata": {},
   "outputs": [
    {
     "data": {
      "image/png": "[encoded data removed]",
      "text/plain": [
       "<Figure size 640x480 with 1 Axes>"
      ]
     },
     "metadata": {},
     "output_type": "display_data"
    }
   ],
   "source": [
    "import numpy as np\n",
    "import matplotlib.pyplot as plt\n",
    "\n",
    "def binomial_pmf(k, n, p):\n",
    "    return np.math.comb(n, k) * p**k * (1-p)**(n-k)\n",
    "\n",
    "n = 10 # number of trials\n",
    "p = 0.5 # probability of success\n",
    "k_values = np.arange(0, n+1)\n",
    "pmf_values = [binomial_pmf(k, n, p) for k in k_values]\n",
    "\n",
    "plt.stem(k_values, pmf_values)\n",
    "plt.title('Binomial Probability Mass Function')\n",
    "plt.xlabel('k')\n",
    "plt.ylabel('PMF')\n",
    "plt.show()"
   ]
  },
  {
   "cell_type": "markdown",
   "id": "43435333",
   "metadata": {},
   "source": [
    "**Binomial Distribution:**\n",
    "\n",
    "- Use Case: \n",
    "Used when you're interested in the number of successes in a fixed number of trials. For example, flipping a coin 10 times and counting the number of heads.\n",
    "- Parameters: \n",
    "Number of trials (n) and the probability of success in each trial (p)."
   ]
  },
  {
   "cell_type": "code",
   "execution_count": null,
   "id": "f27a709f",
   "metadata": {},
   "outputs": [],
   "source": [
    "(iv).Poisson Distribution:\n",
    "  It's for Discrete distribution.\n",
    "  It's discribes the number of events ocuring in a fixed time interval\n",
    "    eg. No. of people visting hospital every hour.\n",
    "        No. of people visting banks every hour\n",
    "# lambda(lam)= λ = Expected no. of event to occur at every time interval.\n",
    "# t = time interval\n",
    "\n",
    "PMF: P(x)= [e^(-lam)*lam^(x)]/(x!).\n",
    "    \n",
    "    mean = E(x)=µ= λ*t\n",
    "    variance = E(x)=µ= λ*t"
   ]
  },
  {
   "cell_type": "code",
   "execution_count": 4,
   "id": "faba7602",
   "metadata": {},
   "outputs": [
    {
     "data": {
      "image/png": "[encoded data removed]",
      "text/plain": [
       "<Figure size 640x480 with 1 Axes>"
      ]
     },
     "metadata": {},
     "output_type": "display_data"
    }
   ],
   "source": [
    "import numpy as np\n",
    "import matplotlib.pyplot as plt\n",
    "from scipy.stats import poisson\n",
    "\n",
    "# Set the average rate (lambda) for the Poisson distribution\n",
    "lambda_value = 3\n",
    "\n",
    "# Generate a range of values for k\n",
    "k_values = np.arange(0, 10)\n",
    "\n",
    "# Calculate the PMF for each k\n",
    "poisson_pmf = poisson.pmf(k_values, lambda_value)\n",
    "\n",
    "# Plot the Poisson distribution\n",
    "plt.bar(k_values, poisson_pmf, align='center', alpha=0.7)\n",
    "plt.title('Poisson Distribution PMF')\n",
    "plt.xlabel('Number of Events (k)')\n",
    "plt.ylabel('Probability')\n",
    "plt.show()\n"
   ]
  },
  {
   "cell_type": "markdown",
   "id": "41a80bd7",
   "metadata": {},
   "source": [
    "**Poisson Distribution:**\n",
    "\n",
    "- Use Case: \n",
    "Ideal for modeling events that happen at a constant rate over time but randomly. For instance, the number of emails you receive in an hour.\n",
    "- Parameter:\n",
    "The rate (λ) at which events happen."
   ]
  },
  {
   "cell_type": "code",
   "execution_count": 13,
   "id": "b41c225c",
   "metadata": {},
   "outputs": [
    {
     "data": {
      "image/png": "[encoded data removed]",
      "text/plain": [
       "<Figure size 640x480 with 1 Axes>"
      ]
     },
     "metadata": {},
     "output_type": "display_data"
    }
   ],
   "source": [
    "import numpy as np\n",
    "import matplotlib.pyplot as plt\n",
    "\n",
    "def poisson_pmf(k, lam):\n",
    "    return np.exp(-lam) * (lam**k) / np.math.factorial(k)\n",
    "\n",
    "lam = 2.5 # rate parameter\n",
    "k_values = np.arange(0, 11)\n",
    "pmf_values = [poisson_pmf(k, lam) for k in k_values]\n",
    "\n",
    "plt.stem(k_values, pmf_values)\n",
    "plt.title('Poisson Probability Mass Function')\n",
    "plt.xlabel('k')\n",
    "plt.ylabel('PMF')\n",
    "plt.show()"
   ]
  },
  {
   "cell_type": "code",
   "execution_count": null,
   "id": "7a3c2a62",
   "metadata": {},
   "outputs": [],
   "source": [
    "(v). Uniform Distribution: \n",
    "        A continuous probability distribution with a constant probability density between two limits.\n",
    "        \n",
    "        \n",
    "Use Case:\n",
    "    \n",
    "## Equally Likely Outcomes: \n",
    "The uniform distribution is typically used in situations where each outcome in a range is equally likely. \n",
    "This is often the case in idealized or theoretical models.\n",
    "\n",
    "## Random Selection:\n",
    "It is used to model scenarios where an event has a random selection from a fixed number of options. \n",
    "For instance, if you randomly pick a card from a well-shuffled deck, each card has an equal chance of being selected.\n",
    "        \n",
    "\n",
    "(a). Continuous Uniform Distribution (pdf) [continous random variable]\n",
    "       The continous uniform distribution or rectangular distribution is  a family of symmetric probability\n",
    "        distributions.The distribution describes an experiment where there is an arbitary outcome that lies between certain bounds.\n",
    "     or also called as rectangular distribution.\n",
    "    \n",
    "    Notation: u(a,b)\n",
    "    Parameter: -∞ < a < b < ∞\n",
    "    pdf = {1/(b-a) for x∈[a,b]\n",
    "          { 0   otherwise\n",
    "           \n",
    "    cdf = { 0          for x<a\n",
    "          { x-a/(b-a)  for x∈[a,b]\n",
    "          { 1          for x>b\n",
    "           \n",
    "    mean = (1/2)*(a+b)\n",
    "    median = (1/2)*(a+b)\n",
    "    variance = (1/12)*(b-a)**2"
   ]
  },
  {
   "cell_type": "markdown",
   "id": "4c986094",
   "metadata": {},
   "source": [
    "**Example of Continuous Uniform Distribution (pdf) [continous random variable]**"
   ]
  },
  {
   "cell_type": "code",
   "execution_count": 5,
   "id": "d4ef7945",
   "metadata": {},
   "outputs": [
    {
     "data": {
      "image/png": "[encoded data removed]",
      "text/plain": [
       "<Figure size 1200x800 with 1 Axes>"
      ]
     },
     "metadata": {},
     "output_type": "display_data"
    }
   ],
   "source": [
    "import numpy as np\n",
    "import matplotlib.pyplot as plt\n",
    "import scipy.stats as stats\n",
    "\n",
    "# Set a range for x values\n",
    "x = np.linspace(-10, 10, 1000)\n",
    "\n",
    "# 1. Normal (Gaussian) Distribution\n",
    "# Parameters: mean (mu) and standard deviation (sigma)\n",
    "mu, sigma = 0, 1  # Mean and standard deviation\n",
    "normal_pdf = stats.norm.pdf(x, mu, sigma)\n",
    "\n",
    "# 2. Uniform Distribution\n",
    "# Parameters: lower bound (a) and upper bound (b)\n",
    "a, b = -2, 2\n",
    "uniform_pdf = stats.uniform.pdf(x, loc=a, scale=b-a)\n",
    "\n",
    "# 3. Exponential Distribution\n",
    "# Parameter: rate (lambda)\n",
    "lambda_exp = 1\n",
    "exponential_pdf = stats.expon.pdf(x, scale=1/lambda_exp)\n",
    "\n",
    "# Plotting the distributions\n",
    "plt.figure(figsize=(12, 8))\n",
    "\n",
    "plt.plot(x, normal_pdf, label='Normal Distribution', color='blue')\n",
    "plt.plot(x, uniform_pdf, label='Uniform Distribution', color='green')\n",
    "plt.plot(x, exponential_pdf, label='Exponential Distribution', color='red')\n",
    "\n",
    "plt.title('Examples of Continuous Distributions')\n",
    "plt.xlabel('x')\n",
    "plt.ylabel('Probability Density')\n",
    "plt.legend()\n",
    "\n",
    "plt.show()"
   ]
  },
  {
   "cell_type": "markdown",
   "id": "711af973",
   "metadata": {},
   "source": [
    "**Normal (Gaussian) Distribution:**\n",
    "\n",
    "Parameters: Mean (mu) and Standard Deviation (sigma).\n",
    "\n",
    "Characterized by its symmetric, bell-shaped curve. In this example, it's centered at mu = 0 with a sigma = 1.\n",
    "\n",
    "**Uniform Distribution:**\n",
    "\n",
    "Parameters: Lower bound (a) and Upper bound (b).\n",
    "\n",
    "This distribution is flat, indicating that all values within the interval [a, b] (in this case, -2 to 2) are equally likely.\n",
    "\n",
    "**Exponential Distribution:**\n",
    "\n",
    "Parameter: Rate (lambda).\n",
    "\n",
    "The distribution is skewed to the right and is used to model the time between events in a Poisson process. Here, lambda = 1, which determines the scale of the distribution."
   ]
  },
  {
   "cell_type": "code",
   "execution_count": 29,
   "id": "4c6a7ef4",
   "metadata": {},
   "outputs": [
    {
     "data": {
      "image/png": "[encoded data removed]",
      "text/plain": [
       "<Figure size 640x480 with 1 Axes>"
      ]
     },
     "metadata": {},
     "output_type": "display_data"
    }
   ],
   "source": [
    "import random\n",
    "import matplotlib.pyplot as plt\n",
    "\n",
    "# Set the lower and upper bounds of the uniform distribution\n",
    "a = 1\n",
    "b = 10\n",
    "\n",
    "# Generate 1000 random numbers from the uniform distribution\n",
    "nums = [random.uniform(a, b) for _ in range(1000)]\n",
    "\n",
    "# Plot the histogram of the generated numbers\n",
    "plt.hist(nums, bins=20)\n",
    "plt.xlabel(\"Random numbers\")\n",
    "plt.ylabel(\"Frequency\")\n",
    "plt.title(\"Histogram of random numbers from the continuous uniform distribution\")\n",
    "plt.show()"
   ]
  },
  {
   "cell_type": "code",
   "execution_count": null,
   "id": "3a63acc4",
   "metadata": {},
   "outputs": [],
   "source": [
    "(b). Discrete Uniform Distribution (pmf) [Discrete random variable]\n",
    "       The discrete unifrom distribution is a symmetric probability distribution where in a\n",
    "         finite number of values are equally likely to be observed; every one of n value has equal probility 1/n.\n",
    "         Another way of saying \"discrete uniform distribution\" would be \"a known, finite number of outcomes equally \n",
    "              likely to happen\".\n",
    "            example: Rolling a dice.\n",
    "                \n",
    "    Notation: u(a,b)\n",
    "    Parameter: a and b, b ≥ a\n",
    "    pmf = 1/n\n",
    "           \n",
    "    mean = (a+b)/2\n",
    "    median = (a+b)/2"
   ]
  },
  {
   "cell_type": "code",
   "execution_count": 2,
   "id": "73731fc3",
   "metadata": {},
   "outputs": [
    {
     "data": {
      "image/png": "[encoded data removed]",
      "text/plain": [
       "<Figure size 640x480 with 1 Axes>"
      ]
     },
     "metadata": {},
     "output_type": "display_data"
    }
   ],
   "source": [
    "import numpy as np\n",
    "import matplotlib.pyplot as plt\n",
    "\n",
    "def uniform_pmf(k, a, b):\n",
    "    if k < a or k > b:\n",
    "        return 0\n",
    "    else:\n",
    "        return 1 / (b - a + 1)\n",
    "\n",
    "a = 1 # minimum value\n",
    "b = 6 # maximum value\n",
    "k_values = np.arange(a, b+1)\n",
    "pmf_values = [uniform_pmf(k, a, b) for k in k_values]\n",
    "\n",
    "plt.stem(k_values, pmf_values, linefmt='C0-', markerfmt='C0o', basefmt='k-', use_line_collection=True)\n",
    "plt.title('Discrete Uniform Probability Mass Function')\n",
    "plt.xlabel('k')\n",
    "plt.ylabel('PMF')\n",
    "plt.ylim((0, 0.3))\n",
    "\n",
    "jitter = 0.05\n",
    "for i in range(len(k_values)):\n",
    "    x = k_values[i]\n",
    "    y = pmf_values[i]\n",
    "    plt.plot([x+jitter, x-jitter], [y, y], color='C0', linewidth=1)\n",
    "    \n",
    "plt.show()"
   ]
  },
  {
   "cell_type": "code",
   "execution_count": null,
   "id": "2fd39f7d",
   "metadata": {},
   "outputs": [],
   "source": [
    "(c). Standard Normal Distribution\n",
    " z-score: how distribution is away from mean.\n",
    "        when we have a guassian/normal distribution with some value of mean & std.\n",
    "        if u convert this distribution in such a way that mean value equal to zero & std having value 1.\n",
    "        this conversion will done by z-score.\n",
    "                  z-score= (xi-µ)/σ\n",
    "            \n",
    "Ques. How many std 4.25 is away from the mean?\n",
    " xi=4.25          µ=4           σ=1\n",
    "     z-score=(4.25-4)/1=0.25, means 0.25 is away from z-score.\n",
    "        \n",
    "eg. Dataset:\n",
    "    Age(yrs)          Weight(kg)      Height(cm)       Salary(INR)    \n",
    "    \n",
    "We need to bring in same units.\n",
    " It's done by standardization.==>ML\n",
    "    \n",
    "    z-score=(xi-µage)/σ\n",
    "    \n",
    "   Google: SEARCH \"Z-score pdf\". You will get area value for different z-score\n",
    "In Z-table:\n",
    "    (i) Negative z table    (ii) Positive Z table"
   ]
  },
  {
   "cell_type": "code",
   "execution_count": 3,
   "id": "1a3549ce",
   "metadata": {
    "scrolled": true
   },
   "outputs": [
    {
     "data": {
      "image/png": "[encoded data removed]",
      "text/plain": [
       "<Figure size 640x480 with 1 Axes>"
      ]
     },
     "metadata": {},
     "output_type": "display_data"
    }
   ],
   "source": [
    "import numpy as np\n",
    "import matplotlib.pyplot as plt\n",
    "from scipy.stats import norm\n",
    "\n",
    "# Generate a range of x-values\n",
    "x = np.linspace(-4, 4, num=1000)\n",
    "\n",
    "# Calculate the PDF values for the standard normal distribution\n",
    "pdf = norm.pdf(x)\n",
    "\n",
    "# Plot the PDF values\n",
    "plt.plot(x, pdf)\n",
    "plt.title('Standard Normal Distribution')\n",
    "plt.xlabel('x')\n",
    "plt.ylabel('PDF')\n",
    "plt.show()"
   ]
  },
  {
   "cell_type": "markdown",
   "id": "54ffa6f0",
   "metadata": {},
   "source": [
    "## Continuous Random Variables"
   ]
  },
  {
   "cell_type": "markdown",
   "id": "a7064f5d",
   "metadata": {},
   "source": [
    "\n",
    "Continuous random variables are a fundamental concept in probability and statistics, differing from discrete random variables in that they can take on an infinite number of values within a given range. These variables are used to model quantities that are not countable but can assume any value within a continuum"
   ]
  },
  {
   "cell_type": "code",
   "execution_count": null,
   "id": "d622b24a",
   "metadata": {},
   "outputs": [],
   "source": [
    "# Explaining the mathematical foundations of continuous random variables using Python comments\n",
    "\n",
    "# Probability Density Function (PDF)\n",
    "\n",
    "# - Definition: For a continuous random variable X, the PDF, denoted as f(x), describes the density of probability at each point in the variable's range.\n",
    "# - It's important to note that f(x) is not the probability of X being exactly x (which is always 0 for continuous variables), but rather a density.\n",
    "# - Integral and Probability: The probability that X falls within an interval a to b is given by the integral of f(x) over that interval: P(a ≤ X ≤ b) = ∫ from a to b f(x) dx.\n",
    "\n",
    "\n",
    "# Cumulative Distribution Function (CDF)\n",
    "\n",
    "# - Definition: The CDF, denoted as F(x), of a continuous random variable is the probability that X will take a value less than or equal to x.\n",
    "# - It is given by the integral of the PDF from -∞ to x: F(x) = ∫ from -∞ to x f(t) dt.\n",
    "# - Properties: The CDF is a non-decreasing, right-continuous function that approaches 0 as x approaches -∞ and 1 as x approaches ∞.\n",
    "\n",
    "\n",
    "# Expected Value and Variance\n",
    "\n",
    "# - Expected Value (Mean): The expected value of a continuous random variable X with PDF f(x) is given by E[X] = ∫ from -∞ to ∞ x f(x) dx.\n",
    "# - Variance: The variance of X is a measure of how spread out the values of X are around the mean, calculated as Var(X) = E[(X - E[X])^2] = ∫ from -∞ to ∞ (x - E[X])^2 f(x) dx.\n",
    "\n",
    "# Note: These integrals and calculations are conceptual and depend on the specific form of the PDF f(x) for a given random variable."
   ]
  },
  {
   "cell_type": "markdown",
   "id": "26b147f0",
   "metadata": {},
   "source": [
    "**Additional Properties**\n",
    "\n",
    "\n",
    "- Continuity: \n",
    "    \n",
    "The outcomes of a continuous random variable are uncountable and can take any value in a continuous range or interval.\n",
    "\n",
    "- Measurement Limitations: \n",
    "    \n",
    "In practice, continuous measurements are always limited by the precision of the measuring tool."
   ]
  },
  {
   "cell_type": "markdown",
   "id": "c136a6a9",
   "metadata": {},
   "source": [
    "**More Examples of Continuous Distributions**\n",
    "\n",
    "- Weibull Distribution: \n",
    "\n",
    "Often used in reliability engineering and failure analysis.\n",
    "\n",
    "- Cauchy Distribution:\n",
    "    \n",
    "Used in physics for resonance behavior and in finance for modeling heavy-tailed distributions.\n",
    "\n",
    "- Chi-Squared Distribution:\n",
    "    \n",
    "Common in hypothesis testing, particularly in tests of independence and goodness of fit.\n",
    "\n",
    "- Rayleigh Distribution:\n",
    "\n",
    "Used in signal processing and for modeling wind speeds.\n",
    "    \n",
    "**Advanced Applications** \n",
    "\n",
    "- Signal Processing: \n",
    "Modeling noise and other signal aspects, which are inherently continuous.\n",
    "\n",
    "- Meteorology:\n",
    "Modeling continuous atmospheric and weather variables like humidity, wind speed, and temperature.\n",
    "\n",
    "- Actuarial Science: \n",
    "Used in risk assessment and modeling of insurance liabilities.\n",
    "\n",
    "- Pharmacokinetics:\n",
    "In modeling the concentration of pharmaceuticals in the body over time.\n",
    "\n",
    "- Econometrics: \n",
    "For modeling continuous economic indicators, such as GDP growth rates, inflation rates, etc."
   ]
  },
  {
   "cell_type": "markdown",
   "id": "8a8d3fd3",
   "metadata": {},
   "source": [
    "**Key Points to Remember**\n",
    "\n",
    "- Precision:\n",
    "Continuous random variables can theoretically be measured to any level of precision, but practical measurements are always limited by the accuracy of measuring instruments.\n",
    "\n",
    "- Modeling:\n",
    "The choice of distribution depends on the nature of the variable being modeled and the specific characteristics of the data.\n",
    "\n",
    "\n",
    "\n",
    "Continuous random variables provide a framework for understanding and analyzing phenomena where outcomes are not discrete but rather continuously variable. They are essential in fields that involve measurement and modeling of continuous processes."
   ]
  },
  {
   "cell_type": "markdown",
   "id": "2b279e1e",
   "metadata": {},
   "source": [
    "# Central Limit Theorem:"
   ]
  },
  {
   "cell_type": "code",
   "execution_count": null,
   "id": "b388306d",
   "metadata": {},
   "outputs": [],
   "source": [
    "The central limit theorem relies on the concept of sampling distribution, which is the probability \n",
    "distribution of a statistic for a large number of samples taken from population.\n",
    "\n",
    "The Central limit theorem says that the sampling distribution of the mean will be always be normally\n",
    "distributed, as long as the sample size is large enough (n ≥ 30). Regradless of whether the population\n",
    "has a normal, Poisson, Binomial, or any other distribution, the sampling distribution of the mean will \n",
    "be normal.\n",
    "\n",
    "Normal distribution:  X ≈ N(µ,σ)\n",
    "      σ = population std\n",
    "      µ = population mean\n",
    "      n = sapmle size.\n",
    "Sampling distribution of mean:  X ≈ N(µ,σ/sqrt(n)), here std will change & mean will same."
   ]
  },
  {
   "cell_type": "code",
   "execution_count": null,
   "id": "3384c94b",
   "metadata": {},
   "outputs": [],
   "source": [
    "# Estimate:\n",
    "    It's a specified observed numerical value used to estimate an unknown population parameter.\n",
    "#  Estimation in statistics is the process of drawing conclusions about a population based on \n",
    "#    sample data. This involves using sample statistics to make inferences about population parameters.\n",
    " \n",
    "    \n",
    "    \n",
    "Types:\n",
    "    1. Point Estimates: Single numerical value used to estimate an unknown population parameter.\n",
    "        eg. Sample mean is a point estimate of a population mean.\n",
    "        Disadvantage: having some marginal error.\n",
    "      to overcome this interval estimates is used.\n",
    "    2. Interval Estimate: Range of values used to estimate the unknown population parameter.\n",
    "        eg. 55-65 => sapmle mean. interval b/w these 55 to 65 is known as Confidence Interval."
   ]
  },
  {
   "cell_type": "markdown",
   "id": "f9e69be7",
   "metadata": {},
   "source": [
    "# B. Inferential stats.: Conclusion or inference."
   ]
  },
  {
   "cell_type": "code",
   "execution_count": null,
   "id": "a481e0b5",
   "metadata": {},
   "outputs": [],
   "source": [
    "A hypothesis And Hypothesis Testing Mechanism:\n",
    "    Samples---------------------->Population => Make some Colcusion from sample about unknown population.\n",
    "                                                    (this called as hypothesis testing)\n",
    "# The mechanism of hypothesis testing involves formulating a null hypothesis (which assumes there\n",
    "#   is no effect or relationship between variables) and an alternative hypothesis (which assumes \n",
    "#   there is an effect or relationship), collecting data, analyzing the data, and determining \n",
    "#    whether the null hypothesis can be rejected or not\n",
    "\n",
    "#In hypothesis testing, the null hypothesis is a statement that is being tested against the alternative \n",
    "#  hypothesis to determine whether there is evidence to reject the null hypothesis.\n",
    "Steps:\n",
    "# 1. Null Hypothesis(Ho): Person is not guilty ,that's means we are beginning with this assumption.  \n",
    "# 2. Alternative Hypothesis(H1): The person is guilty- Opposite of Null Hypothesis.\n",
    "# 3. Need to perform some experiments: Statistical Analysis (like ANOVA test, p-value etc)\n",
    "# 4. After the Experiments, Accept the Null Hypothesis or Reject the Null Hypothesis.\n",
    "\n",
    "The significance level commonly used in hypothesis testing is 0.05, which means that there is a 5% chance of \n",
    "rejecting the null hypothesis when it is actually true. This level of significance is considered to be the \n",
    "standard in many fields.\n",
    "\n",
    "\n",
    "    1. Null Hypothesis(Ho) -Person is not guilty\n",
    "          The assumption you are beginning with\n",
    "        \n",
    "    2. Alternate hypothesis(H1)=Person is guilty.\n",
    "          Opposite of Null Hypothesis.\n",
    "    \n",
    "    3. Experiments-->statistical Analysis(p value, sigma value)\n",
    "            eg.- Collect prof(DNA,Finger test)\n",
    "        \n",
    "    4. Accept the Null Hypothesis or Reject the Null Hypothesis"
   ]
  },
  {
   "cell_type": "code",
   "execution_count": null,
   "id": "e9012e77",
   "metadata": {},
   "outputs": [],
   "source": [
    "P Value:\n",
    "    The p value is a number, calculated from a statistical test, that describes how \n",
    "    likely you are to have found a particular set of observation if the bull hypothesis\n",
    "    were true. P value are used in hypothesis testing to help decode whether to reject\n",
    "    the null hypothesis.\n",
    "# Or simply: The probability of observing a test statistic as extreme as, or more extreme than,\n",
    "#     the one observed, assuming the null hypothesis is true   \n",
    "  ex:  in keyboard, we hv spacebar.prob of touching a particular region 0.2\n",
    "    means, out of 100 touches, we touch around 20 tims in this region\n",
    "    \n",
    "(i). Hypothesis Testing: eg. Coin is fair or not {100 times}\n",
    "    P(H)= 0.5    P(T)= 0.5\n",
    "    P(H)= 0.6    P(T)= 0.4\n",
    "    P(H)= 0.7    P(T)= 0.3 => need to think coin is fair or not, bcz prob(H) is much higher.\n",
    "    \n",
    "(ii). Alternate hypothesis:\n",
    "      H1= Coin is not fair.\n",
    "    \n",
    "(iii).  Experiment= 100 times.\n",
    "\n",
    "(iv).       significane value: α = 0.05\n",
    "                   CI  = 1-0.05 = 0.95\n",
    "        \n",
    "        \n",
    "(v)   Conclusion:  P-value < significance value\n",
    "                   Reject the null hypothesis\n",
    "                   else\n",
    "                   Fail to reject the null.(if falls into acceptation area)"
   ]
  },
  {
   "cell_type": "code",
   "execution_count": null,
   "id": "d9f29e48",
   "metadata": {},
   "outputs": [],
   "source": [
    "# STATISTICAL ANALYSIS:\n",
    "   (I). Z-TEST } Avgerage\n",
    "   (II). t test } Avg   \n",
    "   (III). CHI SQUARE test => Categorical Data\n",
    "   (IV).  ANNOVA => Variance\n",
    "    \n",
    "Z-test: conditions to used z-test: population std should be known   , n ≥ 30 (sample size should be greater than 30) \n",
    "    \n",
    "    Example:\n",
    "        \n",
    "1). The average heights of all residents in a city is 168cm. with a σ=3.9, A doctor believes the mean\n",
    "     to be different. He measured the height of 36 individuals and found the average height to be 169.5cm.\n",
    "(a). State Null & Alternate hypothesis.\n",
    "(b). At a 95% confidence level, is there enough evidence to reject the null hypothesis.\n",
    "\n",
    "µ=168 cm,  σ=3.9   n=36 x̄ = 169.5  CI=0.95  , α=1-0.95=0.05\n",
    "\n",
    "(I). Null Hypothesis, H0 =µ=168cm\n",
    "(II). Alternate Hypothesis, H1=µ≠168cm\n",
    "(III). Based on C.I. we will draw Decision Bounds:\n",
    "   \n",
    " If Z is less than -1.96 or greateer than +1.96, Reject the Null hypothesis.\n",
    "    \n",
    "    Z-test:\n",
    "        Zd = (x̄-µ)/(σ/√n) = 2.31\n",
    "  colclusion:      2.31>1.96 Reject the Null Hypothesis."
   ]
  },
  {
   "cell_type": "markdown",
   "id": "920d5174",
   "metadata": {},
   "source": [
    " Let's consider a business case study where hypothesis testing is applied. We'll use Python for the statistical analysis."
   ]
  },
  {
   "cell_type": "markdown",
   "id": "7bc6161a",
   "metadata": {},
   "source": [
    "## Business Case Study: Impact of a New Marketing Campaign\n",
    "\n",
    "Scenario: A company wants to determine if a new marketing campaign has increased its average monthly sales. We'll conduct a hypothesis test to see if there is a statistically significant increase in sales after the marketing campaign."
   ]
  },
  {
   "cell_type": "markdown",
   "id": "6f4923ff",
   "metadata": {},
   "source": [
    "**Data:**\n",
    "\n",
    "Historical average monthly sales before the campaign: $50,000.\n",
    "\n",
    "Standard deviation based on past data: $5,000.\n",
    "\n",
    "Sample data of average monthly sales from 30 different stores after initiating the campaign."
   ]
  },
  {
   "cell_type": "markdown",
   "id": "dbcf98b5",
   "metadata": {},
   "source": [
    "**Hypothesis:**\n",
    "\n",
    "- Null Hypothesis (H0): \n",
    "The mean sales after the campaign are equal to $50,000. (No change in sales)\n",
    "\n",
    "- Alternative Hypothesis (H1): \n",
    "The mean sales after the campaign are greater than $50,000. (Increase in sales)"
   ]
  },
  {
   "cell_type": "markdown",
   "id": "ba748bf3",
   "metadata": {},
   "source": [
    "Significance Level:\n",
    "\n",
    "We'll use a common significance level of 0.05.\n",
    "\n",
    "Test:\n",
    "\n",
    "We'll use a one-sample t-test as we are comparing the sample mean to a known population mean, and we assume the sample size is small (< 30) or the population standard deviation is unknown."
   ]
  },
  {
   "cell_type": "markdown",
   "id": "86997f98",
   "metadata": {},
   "source": [
    "**Python Code for Hypothesis Testing**"
   ]
  },
  {
   "cell_type": "code",
   "execution_count": 11,
   "id": "8a8babbe",
   "metadata": {},
   "outputs": [
    {
     "name": "stdout",
     "output_type": "stream",
     "text": [
      "T-Statistic: 4.195579082381911\n",
      "P-Value: 0.00023467104623457006\n",
      "Reject the null hypothesis. There is a significant increase in sales.\n"
     ]
    }
   ],
   "source": [
    "import numpy as np\n",
    "from scipy import stats\n",
    "\n",
    "# Population parameters\n",
    "mu = 50000  # population mean\n",
    "sigma = 5000  # population standard deviation\n",
    "\n",
    "# Simulate sample data after the campaign\n",
    "np.random.seed(0)  # for reproducibility\n",
    "sample_size = 30\n",
    "sample = np.random.normal(mu + 2000, sigma, sample_size)  # sample with a slight increase\n",
    "\n",
    "# One-sample t-test\n",
    "t_statistic, p_value = stats.ttest_1samp(sample, mu)\n",
    "\n",
    "# Results\n",
    "print(\"T-Statistic:\", t_statistic)\n",
    "print(\"P-Value:\", p_value)\n",
    "\n",
    "# Determine significance\n",
    "alpha = 0.05\n",
    "if p_value < alpha:\n",
    "    print(\"Reject the null hypothesis. There is a significant increase in sales.\")\n",
    "else:\n",
    "    print(\"Fail to reject the null hypothesis. No significant increase in sales.\")"
   ]
  },
  {
   "cell_type": "code",
   "execution_count": null,
   "id": "f48d66e2",
   "metadata": {},
   "outputs": [],
   "source": [
    "Student t distribution:\n",
    "    In Z stats when we are perfrom any analysis using z-score\n",
    "          --we require for z-test σ(population standard deviation) is already known.\n",
    "# The student t distribution is a probability distribution used to test hypotheses\n",
    "#   about the mean of a population when the sample size is small. It is used when\n",
    "#   the population standard deviation is unknown and must be estimated from the sample data.\n",
    "\n",
    "  How do we perform any analysis when we don't know the population standard deviation?\n",
    "\n",
    "       Student's t distribution:\n",
    "              t= (x̄-µ)/(S/√n)\n",
    "                 where,  S= sample standard deviation, change with population standard deviation(σ).\n",
    "        Degree of freedom = n-1"
   ]
  },
  {
   "cell_type": "code",
   "execution_count": null,
   "id": "8c8f9e54",
   "metadata": {},
   "outputs": [],
   "source": [
    "# When we use T-tests vs Z-test:\n",
    "\n",
    "  Do you know the population standard deviation\n",
    "    No =>  Use T-test\n",
    "    Yes=> Is the sample size above 30? => No => Use the T test\n",
    "                                          Yes => Use the Z test."
   ]
  },
  {
   "cell_type": "code",
   "execution_count": null,
   "id": "5626f1f1",
   "metadata": {},
   "outputs": [],
   "source": [
    "Type 1 and Type 2 Errors:\n",
    "    \n",
    "Reality: Null Hypothesis is true or Null hypothesis is False.\n",
    "Decision: Null Hypothesis is true or null hypothesis is false.\n",
    "    \n",
    "Outcome 1: We reject the null hypothesis when in reality it is false=> GOOD.\n",
    "Outcome 2: We reject the null hypothesis when in reality it is reality => Type 1 Error\n",
    "            (Or simply Rejecting a true null hypothesis)\n",
    "Outcome 3: We retain the Null hypothesis, when in reality it is false => TYPE 2 ERROR \n",
    "Outcome 4: We retain the Null hypothesis, when in reality it is True => GOOD"
   ]
  },
  {
   "cell_type": "code",
   "execution_count": null,
   "id": "3707a832",
   "metadata": {},
   "outputs": [],
   "source": [
    "Confidence Interval:\n",
    "    Point Estimate ± Mrgin of error\n",
    "       x̄ ± Z*(σ/√n)\n",
    "        \n",
    "After that we need to find Lower CI(-) & Higher CI (+)."
   ]
  },
  {
   "cell_type": "markdown",
   "id": "090a8965",
   "metadata": {},
   "source": [
    "# Bayes Theorem"
   ]
  },
  {
   "cell_type": "code",
   "execution_count": null,
   "id": "e0ed1f37",
   "metadata": {},
   "outputs": [],
   "source": [
    "BAYES STATISTICS (Bayes Theorem):\n",
    "    Bayesian statistics is an approach to data analysis and parameter estimation based on Bayes theorem.\n",
    "    \n",
    "    \n",
    "        Probability : Independent Events\n",
    "                      Dependent Events  \n",
    " Independent Events: One event doesn't effect other.\n",
    "     eg. Rolling a dice {1,2,3,4,5,6}\n",
    "        Pr(x)=1/6\n",
    "        \n",
    " Dependent Events: One event effect other event.\n",
    "    \n",
    "    Bayes Theorem:\n",
    "        Pr(A/B)=[Pr(A)*Pr(B/A)]/Pr(B)\n",
    "     where,   \n",
    "        A,B = Events\n",
    "        Pr(A/B) = Probability of A given B is true\n",
    "        Pr(B/A) = Probability of B given A is true\n",
    "        Pr(A), Pr(B) = Independent probability of A and B.\n",
    "        \n",
    "By byes theorem we can predict house's price. without ML."
   ]
  },
  {
   "cell_type": "code",
   "execution_count": null,
   "id": "3d430c86",
   "metadata": {},
   "outputs": [],
   "source": [
    "CHI SQUARE TEST: uesd to categorical data.\n",
    "    The chi square test for goodness of fit test claims about population proportions.\n",
    "#  It is a continuous distribution :  \n",
    "    It's a non parametric test that is performed on categorical [ordinal and nominal] data.\n",
    "    \n",
    " Goodness of fit test:\n",
    "    In a science class of 75 students, 11 are left handed"
   ]
  },
  {
   "cell_type": "code",
   "execution_count": 2,
   "id": "67256201",
   "metadata": {},
   "outputs": [],
   "source": [
    "import scipy.stats as stat\n",
    "import numpy as np"
   ]
  },
  {
   "cell_type": "code",
   "execution_count": 3,
   "id": "8f93815c",
   "metadata": {},
   "outputs": [],
   "source": [
    "# No. of hours students study daily in a weekly basis\n",
    "\n",
    "expected_data=[8,6,7,9,6,9,7]\n",
    "observed_data=[7,8,6,9,9,6,7]"
   ]
  },
  {
   "cell_type": "code",
   "execution_count": 4,
   "id": "73963243",
   "metadata": {},
   "outputs": [
    {
     "data": {
      "text/plain": [
       "(52, 52)"
      ]
     },
     "execution_count": 4,
     "metadata": {},
     "output_type": "execute_result"
    }
   ],
   "source": [
    "sum(expected_data),sum(observed_data)"
   ]
  },
  {
   "cell_type": "code",
   "execution_count": 5,
   "id": "3fadf508",
   "metadata": {},
   "outputs": [],
   "source": [
    "# Chi square Goodness of ft\n",
    "chisquare_test_statistics, p_value=stat.chisquare(observed_data,expected_data)"
   ]
  },
  {
   "cell_type": "code",
   "execution_count": 6,
   "id": "e16a53e4",
   "metadata": {},
   "outputs": [
    {
     "name": "stdout",
     "output_type": "stream",
     "text": [
      "3.4345238095238093\n",
      "0.7526596580922865\n"
     ]
    },
    {
     "data": {
      "text/plain": [
       "(None, None)"
      ]
     },
     "execution_count": 6,
     "metadata": {},
     "output_type": "execute_result"
    }
   ],
   "source": [
    "print(chisquare_test_statistics),print(p_value)"
   ]
  },
  {
   "cell_type": "code",
   "execution_count": 7,
   "id": "3bf087b4",
   "metadata": {},
   "outputs": [],
   "source": [
    "# Find the critical value\n",
    "significance = 0.05\n",
    "dof=len(observed_data)-1\n",
    "critical_value=stat.chi2.ppf(1-significance,dof)  #this function used to calculate chi square value."
   ]
  },
  {
   "cell_type": "code",
   "execution_count": 8,
   "id": "20677aee",
   "metadata": {},
   "outputs": [
    {
     "data": {
      "text/plain": [
       "12.591587243743977"
      ]
     },
     "execution_count": 8,
     "metadata": {},
     "output_type": "execute_result"
    }
   ],
   "source": [
    "critical_value"
   ]
  },
  {
   "cell_type": "code",
   "execution_count": 9,
   "id": "74317acc",
   "metadata": {},
   "outputs": [
    {
     "name": "stdout",
     "output_type": "stream",
     "text": [
      "Accept the null Hypothesis\n"
     ]
    }
   ],
   "source": [
    "if chisquare_test_statistics > critical_value:\n",
    "    print(\"Reject the null hypothesis\")\n",
    "else:\n",
    "    print(\"Accept the null Hypothesis\")"
   ]
  },
  {
   "cell_type": "markdown",
   "id": "2d2b8276",
   "metadata": {},
   "source": [
    "# F Distributions"
   ]
  },
  {
   "cell_type": "code",
   "execution_count": null,
   "id": "d2b337f5",
   "metadata": {},
   "outputs": [],
   "source": [
    "F Distributions:\n",
    "  In probability theory and statistics, the F -distribution or F-ratio, also known \n",
    "    as Snedecor's F distribution or the Fisher-Snedecor distribution\n",
    "    (after Ronald Fisher and George W. Snedecor) is a continous probabilitty\n",
    "    distribution that arises frequently as null distribution of a test statistics,\n",
    "    most notably in the analysis of variance(ANOVA) and F-tests. \n",
    "    \n",
    "    ANOVA: Analysis of variance of two groups.\n",
    "    F-tests: Used to hypothesis testing, To analysis compare the variance of mean of two groups.\n",
    "        \n",
    "    F distribution with d1 & d2 degree of freedom is the distribution of \n",
    "       X = (S1/d1)/(S2/d2)\n",
    "        S1&S2 => Independent random variables with Chi square distribution.\n",
    "        d1 & d2 => Respective degree of freedom.\n",
    "        \n",
    " F-test\n",
    "\n",
    "Calculation of variance Ratio test(F-test)\n",
    "  F=(Variance1**2)/(Variance2**2)"
   ]
  },
  {
   "cell_type": "code",
   "execution_count": 1,
   "id": "490d0354",
   "metadata": {},
   "outputs": [],
   "source": [
    "# F-test with Python:\n",
    "\n",
    "\n",
    "# Evidence to say that the two population variances are not equal.\n",
    "## Check we come to conclusion whether one worker is better than the other\n",
    "\n",
    "worker1= [18, 19, 22, 25, 27, 28, 41, 45, 51, 55]\n",
    "worker2= [14, 15, 15, 17, 18, 22, 25, 25, 27, 34]"
   ]
  },
  {
   "cell_type": "code",
   "execution_count": 2,
   "id": "a1494038",
   "metadata": {},
   "outputs": [],
   "source": [
    "## Calculate the F test statistics\n",
    "import numpy as np\n",
    "f_test=np.var(worker1)/np.var(worker2)"
   ]
  },
  {
   "cell_type": "code",
   "execution_count": 3,
   "id": "73a3f747",
   "metadata": {},
   "outputs": [
    {
     "data": {
      "text/plain": [
       "4.387122002085506"
      ]
     },
     "execution_count": 3,
     "metadata": {},
     "output_type": "execute_result"
    }
   ],
   "source": [
    "f_test"
   ]
  },
  {
   "cell_type": "code",
   "execution_count": 4,
   "id": "ae1bc9b4",
   "metadata": {},
   "outputs": [],
   "source": [
    "# Degree of freedom\n",
    "df1=len(worker1)-1\n",
    "df2=len(worker2)-1\n",
    "significance_value=0.05"
   ]
  },
  {
   "cell_type": "code",
   "execution_count": 5,
   "id": "3fb15ac8",
   "metadata": {},
   "outputs": [],
   "source": [
    "import scipy.stats as stat"
   ]
  },
  {
   "cell_type": "code",
   "execution_count": 7,
   "id": "6f6fe104",
   "metadata": {},
   "outputs": [],
   "source": [
    "critical_value=stat.f.ppf(q=1-significance_value,dfn=df1,dfd=df2)"
   ]
  },
  {
   "cell_type": "code",
   "execution_count": 8,
   "id": "c8314e40",
   "metadata": {},
   "outputs": [
    {
     "name": "stdout",
     "output_type": "stream",
     "text": [
      "Reject the null hypothesis\n"
     ]
    }
   ],
   "source": [
    "if f_test > critical_value:\n",
    "    print(\"Reject the null hypothesis\")\n",
    "else:\n",
    "    print(\"Accept the null Hypothesis\")"
   ]
  },
  {
   "cell_type": "markdown",
   "id": "f90d533c",
   "metadata": {},
   "source": [
    "# ANOVA:"
   ]
  },
  {
   "cell_type": "code",
   "execution_count": null,
   "id": "460a4fed",
   "metadata": {},
   "outputs": [],
   "source": [
    "Analysis of Variance(ANOVA):\n",
    "    ANOVA is a statistical method used to compare the means of 2 or more groups.\n",
    "    \n",
    "One-Way ANOVA is used when there is only one factor being tested\n",
    "    1. Factors (Variable)\n",
    "    2. Levels\n",
    "          eg. Medicine(Factor)\n",
    "        Dosage- 5mg 10mg 15mg - Levles\n",
    "        Mode of payments: Gapy Phonepe IMPS NEFT\n",
    "   \n",
    "Assumptions in ANOVA:\n",
    "    (1). Normality of sampling distribution of mean:\n",
    "         The distribution of sample mean is normally distributed\n",
    "    (2). Absence of outliers:\n",
    "         Outlying score need to be removed from the dataset\n",
    "    (3). Homogenity of variance:\n",
    "          Population variance in different levels of each independent variable are equal\n",
    "            [σ1**2 = σ2**2 = σ3**2]\n",
    "    (4). Samples are independent and random."
   ]
  },
  {
   "cell_type": "code",
   "execution_count": null,
   "id": "50d4ac10",
   "metadata": {},
   "outputs": [],
   "source": [
    "Types of ANOVA:\n",
    "    (1). One way Anova: One factor with atleast 2 levels these levels are independent.\n",
    "             function: scipy.stats.f_oneway\n",
    "          One-Way ANOVA is used when there is only one factor being tested.\n",
    "        \n",
    "    (2). Repeated measures ANOVA: One factor with atleast 2 levels, levels are dependent.   \n",
    "    (3). Factorial ANOVA: Two or more factors(each of which with atleast) 2 levels, levels \n",
    "          can be independent and dependent.\n",
    "    \n",
    "# In a One-Way ANOVA with 4 groups, the degrees of freedom associated with the Within Groups sum of squares \n",
    "#    is (n-1) * (k-1) = (n-1) * (4-1) = 3 * (n-1), where n is the sample size and k is the number of groups.\n",
    "# The percentage of the total variation in the response variable explained by the differences between groups \n",
    "#    is calculated as the ratio of the Between Groups Variance to the Total Variance (i.e., Between Groups \n",
    "#    Variance) / (Between Groups Variance + Within Groups Variance)).\n",
    "# The SciPy library in Python can be used to perform ANOVA calculations."
   ]
  },
  {
   "cell_type": "code",
   "execution_count": null,
   "id": "1ef4195d",
   "metadata": {},
   "outputs": [],
   "source": [
    "Hypothesis Testing in ANOVA(Partitioning of variance in the ANOVA)\n",
    "\n",
    "  Null Hypothesis H0: µ1 = µ2 = µ3\n",
    "  Alternat Hypothesis H1: Atleast one of the sample mean is not equal. \n",
    "    \n",
    "    Test Statistics:\n",
    "        F = variance between samples/ Variance within sample\n",
    "        \n",
    "Calculate F Test Statistics:\n",
    "    \n",
    "    \n",
    "                 SS       df       MS       F\n",
    "    Between\n",
    "    Within\n",
    "    Total\n",
    "    \n",
    "Sum of Square(SS) Between:\n",
    "        = (Σ (Σai)**2/n) - (T**2/N).\n",
    "    \n",
    "SS Within:\n",
    "    Σy**2-Σ(Σai)**2/n"
   ]
  },
  {
   "cell_type": "markdown",
   "id": "273ce173",
   "metadata": {},
   "source": [
    "**Hypothesis Testing in ANOVA:**"
   ]
  },
  {
   "cell_type": "code",
   "execution_count": 14,
   "id": "5dc260cd",
   "metadata": {},
   "outputs": [
    {
     "name": "stdout",
     "output_type": "stream",
     "text": [
      "F-Statistic: 4.588157626753167\n",
      "P-Value: 0.012753331593793162\n",
      "Reject the null hypothesis - Significant differences exist between the groups.\n"
     ]
    }
   ],
   "source": [
    "# Scenario: A company wants to compare the effectiveness of three different training programs.\n",
    "# Let's assume we have sample data for test scores from employees who underwent these three different training programs.\n",
    "\n",
    "# Generate sample data\n",
    "np.random.seed(0)\n",
    "programA_scores = np.random.normal(70, 5, 30)  # Program A\n",
    "programB_scores = np.random.normal(72, 5, 30)  # Program B\n",
    "programC_scores = np.random.normal(69, 5, 30)  # Program C\n",
    "\n",
    "# Conduct ANOVA\n",
    "f_statistic, p_value = stats.f_oneway(programA_scores, programB_scores, programC_scores)\n",
    "\n",
    "# Output the F-statistic and p-value\n",
    "print(\"F-Statistic:\", f_statistic)\n",
    "print(\"P-Value:\", p_value)\n",
    "\n",
    "# Interpretation\n",
    "alpha = 0.05\n",
    "if p_value < alpha:\n",
    "    print(\"Reject the null hypothesis - Significant differences exist between the groups.\")\n",
    "else:\n",
    "    print(\"Fail to reject the null hypothesis - No significant difference between the groups.\")"
   ]
  },
  {
   "cell_type": "markdown",
   "id": "49ee3148",
   "metadata": {},
   "source": [
    "## Sampling:\n",
    "\n",
    "Sampling is a fundamental concept in statistics that involves selecting a subset of individuals, items, or data from a larger population to estimate characteristics of the whole population. Understanding the principles of sampling is crucial for conducting statistical research and making inferences about a population based on sample data. Here are the key concepts:\n",
    "\n",
    "1. Population and Sample:\n",
    "Population: The entire group that you want to draw conclusions about.\n",
    "\n",
    " Sample: A subset of the population selected for actual observation.\n",
    "\n",
    "    Example: If a researcher is studying the eating habits of teenagers in the United States, the entire group of U.S. teenagers is the population. A sample would be a smaller group of U.S. teenagers selected to represent this population.\n",
    "    \n",
    "2. Sampling Frame:\n",
    "The list or actual representation of the items from which the sample is drawn. It should ideally encompass the entire population to avoid sampling bias.\n",
    "\n",
    "\n",
    "    Example: For a survey of university students' opinions on campus services, the sampling frame might be the list of all enrolled students.\n",
    "\n",
    "3. Sampling Methods\n",
    "Random Sampling: Every member of the population has an equal chance of being selected. Examples include simple random sampling and stratified random sampling.\n",
    "\n",
    " Non-Random Sampling: Not all members of the population have an equal chance of being selected. Examples include convenience sampling, quota sampling, and judgment sampling.\n",
    "\n",
    "\n",
    "4. Simple Random Sampling\n",
    "Each member of the population has an equal probability of being included in the sample. This method is best for obtaining a representative sample without bias.\n",
    "\n",
    "\n",
    "    Example: Conducting a lottery where every resident of a town has an equal chance to win. Each resident's name is in the draw, and winners are randomly selected.\n",
    "\n",
    "5. Stratified Sampling\n",
    "The population is divided into subgroups (strata) based on shared characteristics, and random samples are taken from each stratum. This method ensures representation across key subgroups.\n",
    "\n",
    "\n",
    "     Example: A health survey that needs to represent all age groups of a population. The population is divided into age    groups (strata), and random samples are taken from each age group.\n",
    "\n",
    "6. Cluster Sampling:\n",
    "The population is divided into clusters, and a random selection of clusters is sampled. All or a random selection of units within the chosen clusters are then surveyed.\n",
    "\n",
    "    Example: A study on educational achievements where schools are randomly selected and all students in each selected school are surveyed.\n",
    "\n",
    "\n",
    "7. Systematic Sampling:\n",
    "Selecting every nth individual from the population list. The starting point is usually chosen randomly.\n",
    "\n",
    "    Example: In a factory with 1000 workers, selecting every 10th worker for a survey, starting with a randomly chosen worker between 1 and 10.\n",
    "\n",
    "\n",
    "8. Convenience Sampling:\n",
    "The sample is taken from a group that is conveniently accessible. This method is prone to bias and not recommended for making generalizable inferences.\n",
    "\n",
    "    Example: A street interviewer selecting passersby at a shopping mall because they are readily available.\n",
    "\n",
    "\n",
    "9. Sampling Error:\n",
    "The difference between the results obtained from the sample and the actual characteristics of the whole population. Even with random sampling, some error due to chance is always present.\n",
    "\n",
    "    Example: If a sample survey reports that 60% of the population likes a product, but the actual proportion in the entire   population is 55%, the difference (5%) is the sampling error."
   ]
  },
  {
   "cell_type": "code",
   "execution_count": 7,
   "id": "91dad2ba",
   "metadata": {},
   "outputs": [
    {
     "data": {
      "image/png": "[encoded data removed]",
      "text/plain": [
       "<Figure size 1200x800 with 1 Axes>"
      ]
     },
     "metadata": {},
     "output_type": "display_data"
    }
   ],
   "source": [
    "# Population parameters\n",
    "population_mean = 50\n",
    "population_std = 15\n",
    "population_size = 10000\n",
    "\n",
    "# Generate a population\n",
    "population = np.random.normal(population_mean, population_std, population_size)\n",
    "\n",
    "# Sample sizes\n",
    "sample_sizes = [10, 30, 50, 100]\n",
    "\n",
    "# Dictionary to hold sample means\n",
    "sample_means = {n: [] for n in sample_sizes}\n",
    "\n",
    "# Number of samples to take for each sample size\n",
    "num_samples = 1000\n",
    "\n",
    "# Generate samples and compute means\n",
    "for n in sample_sizes:\n",
    "    for _ in range(num_samples):\n",
    "        sample = np.random.choice(population, n, replace=False)\n",
    "        sample_means[n].append(np.mean(sample))\n",
    "\n",
    "# Plotting the distributions of sample means for different sample sizes\n",
    "plt.figure(figsize=(12, 8))\n",
    "\n",
    "for n in sample_sizes:\n",
    "    plt.hist(sample_means[n], bins=30, alpha=0.5, label=f'Sample Size: {n}')\n",
    "\n",
    "plt.title('Sampling Distribution of the Sample Mean for Different Sample Sizes')\n",
    "plt.xlabel('Sample Mean')\n",
    "plt.ylabel('Frequency')\n",
    "plt.legend()\n",
    "\n",
    "plt.show()"
   ]
  },
  {
   "cell_type": "markdown",
   "id": "67a600cc",
   "metadata": {},
   "source": [
    "**Insights from above plot:**\n",
    "    \n",
    "Population Creation: A population with a mean of 50 and a standard deviation of 15 is generated, \n",
    "    simulating a large population (10,000 individuals).\n",
    "\n",
    "- Sampling and Calculating Means:\n",
    "\n",
    "Samples of different sizes (10, 30, 50, 100) are drawn from this population.\n",
    "For each sample size, 1,000 samples are drawn, and their means are calculated.\n",
    "These means are stored in a dictionary sample_means.\n",
    "\n",
    "\n",
    "- Plotting:\n",
    "\n",
    "The histograms represent the distribution of sample means for each sample size.\n",
    "Each histogram shows how the means of samples of a given size are distributed.\n",
    "\n",
    "\n",
    "- Central Limit Theorem (CLT):\n",
    "    \n",
    "As the sample size increases, the distribution of sample means becomes more tightly clustered around the population mean.\n",
    "This is in line with the CLT, which states that the sampling distribution of the sample mean will be approximately normally\n",
    "distributed, regardless of the population distribution, provided the sample size is sufficiently large.\n",
    "\n",
    "Reduced Variability with Larger Samples: Larger sample sizes (e.g., n=100) show less variability in their means compared to \n",
    "smaller sample sizes (e.g., n=10). This indicates that larger samples provide a more precise estimate of the population mean.\n",
    "\n",
    "Normal Distribution Shape: For larger sample sizes, the distribution of sample means resembles a normal distribution,\n",
    "even though the original population is also normally distributed. This demonstrates that the CLT holds true for different types of population distributions."
   ]
  },
  {
   "cell_type": "code",
   "execution_count": null,
   "id": "d6334b31",
   "metadata": {},
   "outputs": [],
   "source": []
  }
 ],
 "metadata": {
  "kernelspec": {
   "display_name": "Python 3 (ipykernel)",
   "language": "python",
   "name": "python3"
  },
  "language_info": {
   "codemirror_mode": {
    "name": "ipython",
    "version": 3
   },
   "file_extension": ".py",
   "mimetype": "text/x-python",
   "name": "python",
   "nbconvert_exporter": "python",
   "pygments_lexer": "ipython3",
   "version": "3.9.13"
  },
  "varInspector": {
   "cols": {
    "lenName": 16,
    "lenType": 16,
    "lenVar": 40
   },
   "kernels_config": {
    "python": {
     "delete_cmd_postfix": "",
     "delete_cmd_prefix": "del ",
     "library": "var_list.py",
     "varRefreshCmd": "print(var_dic_list())"
    },
    "r": {
     "delete_cmd_postfix": ") ",
     "delete_cmd_prefix": "rm(",
     "library": "var_list.r",
     "varRefreshCmd": "cat(var_dic_list()) "
    }
   },
   "types_to_exclude": [
    "module",
    "function",
    "builtin_function_or_method",
    "instance",
    "_Feature"
   ],
   "window_display": false
  }
 },
 "nbformat": 4,
 "nbformat_minor": 5
}
